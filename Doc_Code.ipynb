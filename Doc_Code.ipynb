{
 "cells": [
  {
   "cell_type": "markdown",
   "metadata": {},
   "source": [
    "# FOOD AND NUTRITION PROJECT \n",
    "### Goals: Which Cuisine/Course/Diet has more cooking Time?\n",
    "### Which has lowest cooking/prep time?\n",
    "### Filter Datas based on User needs"
   ]
  },
  {
   "cell_type": "markdown",
   "metadata": {},
   "source": [
    "### <font color=Green> Importing libraries </font>"
   ]
  },
  {
   "cell_type": "code",
   "execution_count": 1,
   "metadata": {},
   "outputs": [],
   "source": [
    "import pandas as pd\n",
    "import numpy as np\n",
    "import seaborn as sns\n",
    "import matplotlib.pyplot as plt\n"
   ]
  },
  {
   "cell_type": "markdown",
   "metadata": {},
   "source": [
    "#### <font color=Green> Loading the data </font>"
   ]
  },
  {
   "cell_type": "code",
   "execution_count": 2,
   "metadata": {},
   "outputs": [
    {
     "data": {
      "text/plain": [
       "(6871, 15)"
      ]
     },
     "execution_count": 2,
     "metadata": {},
     "output_type": "execute_result"
    }
   ],
   "source": [
    "df = pd. read_csv(\"Recipe.csv\")\n",
    "data = df.copy()\n",
    "data.shape\n"
   ]
  },
  {
   "cell_type": "markdown",
   "metadata": {},
   "source": [
    "### <font color=blue> We have 6871 rows and 15 columns </font>"
   ]
  },
  {
   "cell_type": "markdown",
   "metadata": {},
   "source": [
    "### Dropping Unwanted Columns and Renaming the Columns\n",
    "* we have columns in hindi lets remove it and keep all the values in English"
   ]
  },
  {
   "cell_type": "code",
   "execution_count": 6,
   "metadata": {},
   "outputs": [
    {
     "data": {
      "text/plain": [
       "(6871, 12)"
      ]
     },
     "execution_count": 6,
     "metadata": {},
     "output_type": "execute_result"
    }
   ],
   "source": [
    "data.drop([\"Ingredients\"], axis = 1, inplace = True) \n",
    "data.shape #After dropping there are 6871,14 datas.\n",
    "#dropping unwanted columns to avoid redundancy\n",
    "data.drop([\"RecipeName\"],axis = 1 , inplace= True)\n",
    "data.drop([\"Instructions\"], axis =1 , inplace = True)\n",
    "data.shape"
   ]
  },
  {
   "cell_type": "markdown",
   "metadata": {},
   "source": [
    "### <font color=blue>After removing the columns we have 6871 rows and 12 columns lets rename the columns now </font>"
   ]
  },
  {
   "cell_type": "code",
   "execution_count": 9,
   "metadata": {},
   "outputs": [
    {
     "data": {
      "text/plain": [
       "Index(['Recipe No', 'Recipe Name', 'Ingredients', 'Preparation Time/Min',\n",
       "       'Cooking Time/Min', 'Total Time/Min', 'Servings', 'Cuisine', 'Course',\n",
       "       'Diet', 'Instructions', 'Link'],\n",
       "      dtype='object')"
      ]
     },
     "execution_count": 9,
     "metadata": {},
     "output_type": "execute_result"
    }
   ],
   "source": [
    "data.rename(columns={'TranslatedRecipeName':'Recipe Name','TranslatedIngredients':'Ingredients', 'TranslatedInstructions':'Instructions','Srno':'Recipe No', 'PrepTimeInMins':'Preparation Time/Min','CookTimeInMins':'Cooking Time/Min','TotalTimeInMins':'Total Time/Min','URL':'Link'},inplace=True)\n",
    "data.columns"
   ]
  },
  {
   "cell_type": "markdown",
   "metadata": {},
   "source": [
    "### <font color=Green> Describe Method on numbers and Objects </font>\n",
    "*  It is used to view some basic statistical details like percentile, mean, std etc."
   ]
  },
  {
   "cell_type": "code",
   "execution_count": 14,
   "metadata": {},
   "outputs": [
    {
     "data": {
      "text/html": [
       "<div>\n",
       "<style scoped>\n",
       "    .dataframe tbody tr th:only-of-type {\n",
       "        vertical-align: middle;\n",
       "    }\n",
       "\n",
       "    .dataframe tbody tr th {\n",
       "        vertical-align: top;\n",
       "    }\n",
       "\n",
       "    .dataframe thead th {\n",
       "        text-align: right;\n",
       "    }\n",
       "</style>\n",
       "<table border=\"1\" class=\"dataframe\">\n",
       "  <thead>\n",
       "    <tr style=\"text-align: right;\">\n",
       "      <th></th>\n",
       "      <th>Recipe No</th>\n",
       "      <th>Preparation Time/Min</th>\n",
       "      <th>Cooking Time/Min</th>\n",
       "      <th>Total Time/Min</th>\n",
       "      <th>Servings</th>\n",
       "    </tr>\n",
       "  </thead>\n",
       "  <tbody>\n",
       "    <tr>\n",
       "      <th>count</th>\n",
       "      <td>6871.000000</td>\n",
       "      <td>6871.000000</td>\n",
       "      <td>6871.000000</td>\n",
       "      <td>6871.000000</td>\n",
       "      <td>6871.000000</td>\n",
       "    </tr>\n",
       "    <tr>\n",
       "      <th>mean</th>\n",
       "      <td>4902.979042</td>\n",
       "      <td>28.585213</td>\n",
       "      <td>30.832339</td>\n",
       "      <td>59.417552</td>\n",
       "      <td>5.611410</td>\n",
       "    </tr>\n",
       "    <tr>\n",
       "      <th>std</th>\n",
       "      <td>3479.531022</td>\n",
       "      <td>81.042007</td>\n",
       "      <td>34.019694</td>\n",
       "      <td>88.699940</td>\n",
       "      <td>26.221807</td>\n",
       "    </tr>\n",
       "    <tr>\n",
       "      <th>min</th>\n",
       "      <td>1.000000</td>\n",
       "      <td>0.000000</td>\n",
       "      <td>0.000000</td>\n",
       "      <td>0.000000</td>\n",
       "      <td>1.000000</td>\n",
       "    </tr>\n",
       "    <tr>\n",
       "      <th>25%</th>\n",
       "      <td>1955.500000</td>\n",
       "      <td>10.000000</td>\n",
       "      <td>20.000000</td>\n",
       "      <td>30.000000</td>\n",
       "      <td>4.000000</td>\n",
       "    </tr>\n",
       "    <tr>\n",
       "      <th>50%</th>\n",
       "      <td>4304.000000</td>\n",
       "      <td>15.000000</td>\n",
       "      <td>30.000000</td>\n",
       "      <td>40.000000</td>\n",
       "      <td>4.000000</td>\n",
       "    </tr>\n",
       "    <tr>\n",
       "      <th>75%</th>\n",
       "      <td>7363.000000</td>\n",
       "      <td>20.000000</td>\n",
       "      <td>35.000000</td>\n",
       "      <td>55.000000</td>\n",
       "      <td>4.000000</td>\n",
       "    </tr>\n",
       "    <tr>\n",
       "      <th>max</th>\n",
       "      <td>14211.000000</td>\n",
       "      <td>2880.000000</td>\n",
       "      <td>900.000000</td>\n",
       "      <td>2925.000000</td>\n",
       "      <td>1000.000000</td>\n",
       "    </tr>\n",
       "  </tbody>\n",
       "</table>\n",
       "</div>"
      ],
      "text/plain": [
       "          Recipe No  Preparation Time/Min  Cooking Time/Min  Total Time/Min  \\\n",
       "count   6871.000000           6871.000000       6871.000000     6871.000000   \n",
       "mean    4902.979042             28.585213         30.832339       59.417552   \n",
       "std     3479.531022             81.042007         34.019694       88.699940   \n",
       "min        1.000000              0.000000          0.000000        0.000000   \n",
       "25%     1955.500000             10.000000         20.000000       30.000000   \n",
       "50%     4304.000000             15.000000         30.000000       40.000000   \n",
       "75%     7363.000000             20.000000         35.000000       55.000000   \n",
       "max    14211.000000           2880.000000        900.000000     2925.000000   \n",
       "\n",
       "          Servings  \n",
       "count  6871.000000  \n",
       "mean      5.611410  \n",
       "std      26.221807  \n",
       "min       1.000000  \n",
       "25%       4.000000  \n",
       "50%       4.000000  \n",
       "75%       4.000000  \n",
       "max    1000.000000  "
      ]
     },
     "execution_count": 14,
     "metadata": {},
     "output_type": "execute_result"
    }
   ],
   "source": [
    "data.describe(include=[np.number])\n",
    "#We have 4 columns (excluding recipe no) of number data type"
   ]
  },
  {
   "cell_type": "code",
   "execution_count": 15,
   "metadata": {},
   "outputs": [
    {
     "data": {
      "text/html": [
       "<div>\n",
       "<style scoped>\n",
       "    .dataframe tbody tr th:only-of-type {\n",
       "        vertical-align: middle;\n",
       "    }\n",
       "\n",
       "    .dataframe tbody tr th {\n",
       "        vertical-align: top;\n",
       "    }\n",
       "\n",
       "    .dataframe thead th {\n",
       "        text-align: right;\n",
       "    }\n",
       "</style>\n",
       "<table border=\"1\" class=\"dataframe\">\n",
       "  <thead>\n",
       "    <tr style=\"text-align: right;\">\n",
       "      <th></th>\n",
       "      <th>Recipe Name</th>\n",
       "      <th>Ingredients</th>\n",
       "      <th>Cuisine</th>\n",
       "      <th>Course</th>\n",
       "      <th>Diet</th>\n",
       "      <th>Instructions</th>\n",
       "      <th>Link</th>\n",
       "    </tr>\n",
       "  </thead>\n",
       "  <tbody>\n",
       "    <tr>\n",
       "      <th>count</th>\n",
       "      <td>6871</td>\n",
       "      <td>6865</td>\n",
       "      <td>6871</td>\n",
       "      <td>6871</td>\n",
       "      <td>6871</td>\n",
       "      <td>6871</td>\n",
       "      <td>6871</td>\n",
       "    </tr>\n",
       "    <tr>\n",
       "      <th>unique</th>\n",
       "      <td>6843</td>\n",
       "      <td>6857</td>\n",
       "      <td>82</td>\n",
       "      <td>20</td>\n",
       "      <td>10</td>\n",
       "      <td>6870</td>\n",
       "      <td>6871</td>\n",
       "    </tr>\n",
       "    <tr>\n",
       "      <th>top</th>\n",
       "      <td>Carrot and Beans Poriyal (Recipe In Hindi)</td>\n",
       "      <td>500 grams Button mushrooms - chopped,2 Green C...</td>\n",
       "      <td>Indian</td>\n",
       "      <td>Lunch</td>\n",
       "      <td>Vegetarian</td>\n",
       "      <td>To prepare Four Cheese and Spinach Stuffed Mus...</td>\n",
       "      <td>http://www.archanaskitchen.com/mangalorean-kun...</td>\n",
       "    </tr>\n",
       "    <tr>\n",
       "      <th>freq</th>\n",
       "      <td>2</td>\n",
       "      <td>2</td>\n",
       "      <td>1157</td>\n",
       "      <td>1765</td>\n",
       "      <td>4712</td>\n",
       "      <td>2</td>\n",
       "      <td>1</td>\n",
       "    </tr>\n",
       "  </tbody>\n",
       "</table>\n",
       "</div>"
      ],
      "text/plain": [
       "                                        Recipe Name  \\\n",
       "count                                          6871   \n",
       "unique                                         6843   \n",
       "top      Carrot and Beans Poriyal (Recipe In Hindi)   \n",
       "freq                                              2   \n",
       "\n",
       "                                              Ingredients Cuisine Course  \\\n",
       "count                                                6865    6871   6871   \n",
       "unique                                               6857      82     20   \n",
       "top     500 grams Button mushrooms - chopped,2 Green C...  Indian  Lunch   \n",
       "freq                                                    2    1157   1765   \n",
       "\n",
       "              Diet                                       Instructions  \\\n",
       "count         6871                                               6871   \n",
       "unique          10                                               6870   \n",
       "top     Vegetarian  To prepare Four Cheese and Spinach Stuffed Mus...   \n",
       "freq          4712                                                  2   \n",
       "\n",
       "                                                     Link  \n",
       "count                                                6871  \n",
       "unique                                               6871  \n",
       "top     http://www.archanaskitchen.com/mangalorean-kun...  \n",
       "freq                                                    1  "
      ]
     },
     "execution_count": 15,
     "metadata": {},
     "output_type": "execute_result"
    }
   ],
   "source": [
    "data.describe(include=[np.object])\n",
    "#we have 7 columns of object type"
   ]
  },
  {
   "cell_type": "markdown",
   "metadata": {},
   "source": [
    "## <font color=red> What does the describe method tells us?</font>\n",
    "1. Top Cuisine : Indian <br>\n",
    "2. Top Course : Lunch <br>\n",
    "3. Top Diet : Vegetarian <br>\n",
    "4. (Mean) Servings :5 <br>\n",
    "5. (Mean) Preparation Time: 28 <br>\n",
    "6. (Mean) Cooking Time : 30 <br>\n",
    "7. (Mean) Total Time : 59 <br>\n"
   ]
  },
  {
   "cell_type": "markdown",
   "metadata": {},
   "source": [
    "#### <font color=Green> Setting Index to Recipe No </font>"
   ]
  },
  {
   "cell_type": "code",
   "execution_count": 17,
   "metadata": {},
   "outputs": [],
   "source": [
    "data.set_index(\"Recipe No\", inplace= True)"
   ]
  },
  {
   "cell_type": "code",
   "execution_count": 19,
   "metadata": {},
   "outputs": [
    {
     "data": {
      "text/plain": [
       "(6871, 11)"
      ]
     },
     "execution_count": 19,
     "metadata": {},
     "output_type": "execute_result"
    }
   ],
   "source": [
    "data.head(2)\n",
    "data.shape"
   ]
  },
  {
   "cell_type": "markdown",
   "metadata": {},
   "source": [
    "### <font color=Green> Checking for null value </font>"
   ]
  },
  {
   "cell_type": "code",
   "execution_count": 20,
   "metadata": {},
   "outputs": [
    {
     "name": "stdout",
     "output_type": "stream",
     "text": [
      "Recipe Name             0\n",
      "Ingredients             6\n",
      "Preparation Time/Min    0\n",
      "Cooking Time/Min        0\n",
      "Total Time/Min          0\n",
      "Servings                0\n",
      "Cuisine                 0\n",
      "Course                  0\n",
      "Diet                    0\n",
      "Instructions            0\n",
      "Link                    0\n",
      "dtype: int64\n"
     ]
    }
   ],
   "source": [
    "print(data.isnull().sum())"
   ]
  },
  {
   "cell_type": "markdown",
   "metadata": {},
   "source": [
    "####  <font color=blue> I see Ingredients Column has 6 missing value. Is the missing values are MCAR, MAR or MNAR?Dropping is most useful when the percentage of missing data is low.</font>"
   ]
  },
  {
   "cell_type": "code",
   "execution_count": 30,
   "metadata": {},
   "outputs": [
    {
     "name": "stdout",
     "output_type": "stream",
     "text": [
      "Checking after deleting the rows which has null columns: Recipe Name             0\n",
      "Ingredients             0\n",
      "Preparation Time/Min    0\n",
      "Cooking Time/Min        0\n",
      "Total Time/Min          0\n",
      "Servings                0\n",
      "Cuisine                 0\n",
      "Course                  0\n",
      "Diet                    0\n",
      "Instructions            0\n",
      "Link                    0\n",
      "dtype: int64\n",
      "After cleaning the number of rows and columns:  (6865, 11)\n"
     ]
    }
   ],
   "source": [
    "data.dropna(subset=[\"Ingredients\"], axis=0, inplace=True)\n",
    "print(\"Checking after deleting the rows which has null columns:\" , data.isnull().sum())\n",
    "print(\"After cleaning the number of rows and columns: \",data.shape)"
   ]
  },
  {
   "cell_type": "markdown",
   "metadata": {},
   "source": [
    "# <font color=Green> Let's Visualise the Top list of Course,Cuisine and Diet through Visualisation </font>"
   ]
  },
  {
   "cell_type": "markdown",
   "metadata": {},
   "source": [
    "# CountPlot to Top Course in Data\n",
    "* Show value counts for a single categorical variable:\n",
    "* <font color=red>The Categorical Variables are : Course, Diet and Cuisine. </font>\n",
    "* <font color=red>The Numerical Variable are: Prep Time, CookingTime, Total Time and Servings </font>"
   ]
  },
  {
   "cell_type": "code",
   "execution_count": 51,
   "metadata": {},
   "outputs": [
    {
     "data": {
      "text/plain": [
       "Text(0.5, 1.0, 'Types of Diet')"
      ]
     },
     "execution_count": 51,
     "metadata": {},
     "output_type": "execute_result"
    },
    {
     "data": {
      "image/png": "[encoded data removed]",
      "text/plain": [
       "<Figure size 1440x720 with 1 Axes>"
      ]
     },
     "metadata": {},
     "output_type": "display_data"
    }
   ],
   "source": [
    "sns.set(rc={'figure.figsize':(20,10)})\n",
    "sns.countplot(x='Course',data=data,palette='twilight_shifted')\n",
    "plt.xticks(rotation=60)\n",
    "plt.title('Types of Diet')"
   ]
  },
  {
   "cell_type": "markdown",
   "metadata": {},
   "source": [
    "#####  <font color=red>The order has follows (from high to low) Lunch, Side Dish , Snack, Dinner,Dessert,Appetizer, Maincourse ..the list goes off </font>"
   ]
  },
  {
   "cell_type": "markdown",
   "metadata": {},
   "source": [
    "# Plot Bar on Cuisine Column"
   ]
  },
  {
   "cell_type": "code",
   "execution_count": 49,
   "metadata": {},
   "outputs": [
    {
     "data": {
      "text/plain": [
       "Text(0, 0.5, 'Cooking Time/Min')"
      ]
     },
     "execution_count": 49,
     "metadata": {},
     "output_type": "execute_result"
    },
    {
     "name": "stderr",
     "output_type": "stream",
     "text": [
      "C:\\Users\\kgvij\\Lavanya\\lib\\site-packages\\matplotlib\\backends\\backend_agg.py:238: RuntimeWarning: Glyph 65279 missing from current font.\n",
      "  font.set_text(s, 0.0, flags=flags)\n",
      "C:\\Users\\kgvij\\Lavanya\\lib\\site-packages\\matplotlib\\backends\\backend_agg.py:201: RuntimeWarning: Glyph 65279 missing from current font.\n",
      "  font.set_text(s, 0, flags=flags)\n"
     ]
    },
    {
     "data": {
      "image/png": "[encoded data removed]",
      "text/plain": [
       "<Figure size 2160x1800 with 1 Axes>"
      ]
     },
     "metadata": {},
     "output_type": "display_data"
    }
   ],
   "source": [
    "data.Cuisine.value_counts().nlargest(50).plot(kind=\"bar\",figsize=(30,25))\n",
    "plt.title(\"Types of Cuisine\")\n",
    "plt.xlabel(\"Cuisine\")\n",
    "plt.ylabel(\"Cooking Time/Min\")"
   ]
  },
  {
   "cell_type": "markdown",
   "metadata": {},
   "source": [
    "##### <font color=red> Indian ,Continental ,North Indian ,South Indian, Italian ,Bengali ...The list goes on </font>"
   ]
  },
  {
   "cell_type": "markdown",
   "metadata": {},
   "source": [
    "# CountPlot on Diet"
   ]
  },
  {
   "cell_type": "code",
   "execution_count": 50,
   "metadata": {},
   "outputs": [
    {
     "data": {
      "text/plain": [
       "Text(0.5, 1.0, 'Types of Diets')"
      ]
     },
     "execution_count": 50,
     "metadata": {},
     "output_type": "execute_result"
    },
    {
     "data": {
      "image/png": "[encoded data removed]",
      "text/plain": [
       "<Figure size 1440x720 with 1 Axes>"
      ]
     },
     "metadata": {},
     "output_type": "display_data"
    }
   ],
   "source": [
    "sns.set_theme(style=\"darkgrid\")\n",
    "sns.countplot(x='Diet',data=data)\n",
    "plt.xticks(rotation=60)\n",
    "plt.title(\"Types of Diets\")"
   ]
  },
  {
   "cell_type": "markdown",
   "metadata": {},
   "source": [
    "#### <font color=red> Vegetarian ,High Proteing Veg, Non Veg ,Eggetarian ....(ranking from high to low) </font>"
   ]
  },
  {
   "cell_type": "markdown",
   "metadata": {},
   "source": [
    "# <font color=Green>Total Time required to make each type of Diet recipes </font>\n",
    "\n",
    "* <font color=blue> Does Time affect the course ,diet types? </font>"
   ]
  },
  {
   "cell_type": "markdown",
   "metadata": {},
   "source": [
    "# CAT PLOT"
   ]
  },
  {
   "cell_type": "code",
   "execution_count": 128,
   "metadata": {},
   "outputs": [
    {
     "data": {
      "text/plain": [
       "Text(0.5, 1.0, 'Total time required for each Diet')"
      ]
     },
     "execution_count": 128,
     "metadata": {},
     "output_type": "execute_result"
    },
    {
     "data": {
      "image/png": "[encoded data removed]",
      "text/plain": [
       "<Figure size 360x360 with 1 Axes>"
      ]
     },
     "metadata": {},
     "output_type": "display_data"
    }
   ],
   "source": [
    "#Total Time\n",
    "sns.set(rc={'figure.figsize':(50,10)})\n",
    "sns.catplot(x=data['Total Time/Min'],y='Diet',kind='bar',data=data)\n",
    "plt.title('Total time required for each Diet')"
   ]
  },
  {
   "cell_type": "code",
   "execution_count": 127,
   "metadata": {},
   "outputs": [
    {
     "data": {
      "text/plain": [
       "Text(0.5, 1.0, 'Total time required for each Course')"
      ]
     },
     "execution_count": 127,
     "metadata": {},
     "output_type": "execute_result"
    },
    {
     "data": {
      "image/png": "[encoded data removed]",
      "text/plain": [
       "<Figure size 360x360 with 1 Axes>"
      ]
     },
     "metadata": {},
     "output_type": "display_data"
    }
   ],
   "source": [
    "sns.set(rc={'figure.figsize':(50,30)})\n",
    "sns.catplot(x='Total Time/Min',y='Course',kind='point',data=data,color='g')\n",
    "plt.title('Total time required for each Course')"
   ]
  },
  {
   "cell_type": "markdown",
   "metadata": {},
   "source": [
    "# <font color=Green> Let's see the visualised graph in number format </font>"
   ]
  },
  {
   "cell_type": "code",
   "execution_count": 115,
   "metadata": {},
   "outputs": [
    {
     "name": "stdout",
     "output_type": "stream",
     "text": [
      "The top_diets are: \n",
      "Vegetarian                      4706\n",
      "High Protein Vegetarian          705\n",
      "Non Vegeterian                   427\n",
      "Eggetarian                       344\n",
      "Diabetic Friendly                260\n",
      "High Protein Non Vegetarian      225\n",
      "No Onion No Garlic (Sattvic)      73\n",
      "Vegan                             61\n",
      "Gluten Free                       50\n",
      "Sugar Free Diet                   14\n",
      "Name: Diet, dtype: int64\n"
     ]
    }
   ],
   "source": [
    "Top_diets = data.Diet.value_counts().head(10)\n",
    "print(\"The top_diets are: \" )\n",
    "print(Top_diets)\n"
   ]
  },
  {
   "cell_type": "code",
   "execution_count": 123,
   "metadata": {},
   "outputs": [
    {
     "name": "stdout",
     "output_type": "stream",
     "text": [
      "The Top Cuisine are: \n",
      "Indian                      1157\n",
      "Continental                 1020\n",
      "North Indian Recipes         936\n",
      "South Indian Recipes         681\n",
      "Italian Recipes              235\n",
      "Bengali Recipes              175\n",
      "Maharashtrian Recipes        173\n",
      "Kerala Recipes               163\n",
      "Tamil Nadu                   156\n",
      "Karnataka                    149\n",
      "Fusion                       135\n",
      "Rajasthani                   123\n",
      "Mexican                      119\n",
      "Andhra                       118\n",
      "Gujarati Recipes﻿            115\n",
      "Goan Recipes                  99\n",
      "Punjabi                       84\n",
      "Chettinad                     74\n",
      "Asian                         72\n",
      "Thai                          66\n",
      "Chinese                       59\n",
      "Kashmiri                      59\n",
      "French                        54\n",
      "Middle Eastern                53\n",
      "Mangalorean                   49\n",
      "Parsi Recipes                 48\n",
      "Indo Chinese                  48\n",
      "Awadhi                        45\n",
      "Oriya Recipes                 34\n",
      "Sindhi                        33\n",
      "Konkan                        32\n",
      "Mughlai                       31\n",
      "Bihari                        29\n",
      "Mediterranean                 29\n",
      "Assamese                      28\n",
      "Hyderabadi                    28\n",
      "European                      20\n",
      "North East India Recipes      18\n",
      "African                       18\n",
      "Himachal                      17\n",
      "Greek                         17\n",
      "Udupi                         15\n",
      "Sri Lankan                    15\n",
      "Uttar Pradesh                 14\n",
      "Coastal Karnataka             14\n",
      "Coorg                         14\n",
      "North Karnataka               14\n",
      "Lucknowi                      13\n",
      "Japanese                      13\n",
      "Malabar                       13\n",
      "Vietnamese                    11\n",
      "Pakistani                     11\n",
      "South Karnataka               11\n",
      "Indonesian                     9\n",
      "Malvani                        9\n",
      "Nepalese                       8\n",
      "American                       7\n",
      "Cantonese                      7\n",
      "World Breakfast                6\n",
      "Sichuan                        6\n",
      "Name: Cuisine, dtype: int64\n"
     ]
    }
   ],
   "source": [
    "Top_Cuisine = data.Cuisine.value_counts().head(60)\n",
    "print(\"The Top Cuisine are: \")\n",
    "print(Top_Cuisine)\n"
   ]
  },
  {
   "cell_type": "code",
   "execution_count": 124,
   "metadata": {},
   "outputs": [
    {
     "name": "stdout",
     "output_type": "stream",
     "text": [
      "The Top Course are: \n",
      "Lunch                           1763\n",
      "Side Dish                        992\n",
      "Snack                            876\n",
      "Dinner                           781\n",
      "Dessert                          659\n",
      "Appetizer                        637\n",
      "Main Course                      315\n",
      "South Indian Breakfast           260\n",
      "World Breakfast                  260\n",
      "North Indian Breakfast           122\n",
      "Indian Breakfast                 101\n",
      "Vegetarian                        47\n",
      "One Pot Dish                      33\n",
      "High Protein Vegetarian            7\n",
      "Brunch                             4\n",
      "Vegan                              3\n",
      "Non Vegeterian                     2\n",
      "Eggetarian                         1\n",
      "Sugar Free Diet                    1\n",
      "No Onion No Garlic (Sattvic)       1\n",
      "Name: Course, dtype: int64\n"
     ]
    }
   ],
   "source": [
    "Top_Course = data.Course.value_counts().head(20)\n",
    "print(\"The Top Course are: \")\n",
    "print(Top_Course)\n"
   ]
  },
  {
   "cell_type": "markdown",
   "metadata": {},
   "source": [
    "# Correlation Matrix : Timings"
   ]
  },
  {
   "cell_type": "code",
   "execution_count": 138,
   "metadata": {},
   "outputs": [
    {
     "data": {
      "image/png": "[encoded data removed]",
      "text/plain": [
       "<Figure size 288x288 with 2 Axes>"
      ]
     },
     "metadata": {},
     "output_type": "display_data"
    },
    {
     "name": "stdout",
     "output_type": "stream",
     "text": [
      "The correlation :                       Preparation Time/Min  Cooking Time/Min  Servings\n",
      "Preparation Time/Min              1.000000          0.025864  0.071764\n",
      "Cooking Time/Min                  0.025864          1.000000 -0.007955\n",
      "Servings                          0.071764         -0.007955  1.000000\n"
     ]
    }
   ],
   "source": [
    "#creating a matrix for more than 2 variable ,all the variable here are numeric\n",
    "plt.subplots(figsize=(4, 4))\n",
    "corr_numeric=data[['Preparation Time/Min','Cooking Time/Min','Servings']].corr()\n",
    "\n",
    "#plot the correlation matrix of Preparation Time/Min','Cooking Time/Min','Servings in data dataframe.\n",
    "sns.heatmap(data[['Preparation Time/Min','Cooking Time/Min','Servings']].corr(), annot=True, cmap = 'Reds',linewidths=.5, fmt= '.1f')\n",
    "plt.show()\n",
    "print(\"The correlation :\", corr_numeric)"
   ]
  },
  {
   "cell_type": "markdown",
   "metadata": {},
   "source": [
    "# <font color=Green> DATA WRANGLING </font>"
   ]
  },
  {
   "cell_type": "markdown",
   "metadata": {},
   "source": [
    "*Data Wrangling is the process of converting data from the initial format to a format that may be better for analysis.\n",
    "####  Converting Mins to Hours.\n",
    "*Can we convert mins to hours ??? Instead of saying 120 mins ?! "
   ]
  },
  {
   "cell_type": "code",
   "execution_count": 142,
   "metadata": {},
   "outputs": [
    {
     "data": {
      "text/plain": [
       "Index(['Recipe Name', 'Ingredients', 'Preparation Time/Min',\n",
       "       'Cooking Time/Min', 'Total Time/Min', 'Servings', 'Cuisine', 'Course',\n",
       "       'Diet', 'Instructions', 'Link', 'Total Time)'],\n",
       "      dtype='object')"
      ]
     },
     "execution_count": 142,
     "metadata": {},
     "output_type": "execute_result"
    }
   ],
   "source": [
    "total_Hrs=pd.to_datetime(data['Total Time/Min'], unit='m').dt.strftime('%H:%M')\n",
    "total_Hrs[100:125]\n",
    "data['Total Time)']=total_Hrs\n",
    "data[10:20]\n",
    "data.columns"
   ]
  },
  {
   "cell_type": "markdown",
   "metadata": {},
   "source": [
    "# <font color=Green> Writing the data to new csv file </font>"
   ]
  },
  {
   "cell_type": "code",
   "execution_count": 172,
   "metadata": {},
   "outputs": [],
   "source": [
    "data_cleaning = data.to_csv('FoodRecipes.csv')\n"
   ]
  },
  {
   "cell_type": "markdown",
   "metadata": {},
   "source": [
    "## <font color=Green> How to remove rows that has non english values </font>"
   ]
  },
  {
   "cell_type": "code",
   "execution_count": 6,
   "metadata": {},
   "outputs": [
    {
     "data": {
      "text/plain": [
       "Index(['Recipe No', 'Recipe Name', 'Ingredients', 'Preparation Time/Min',\n",
       "       'Cooking Time/Min', 'Total Time/Min', 'Servings', 'Cuisine', 'Course',\n",
       "       'Diet', 'Instructions', 'Link', 'Total Time)'],\n",
       "      dtype='object')"
      ]
     },
     "execution_count": 6,
     "metadata": {},
     "output_type": "execute_result"
    }
   ],
   "source": [
    "df = pd.read_csv('FoodRecipes.csv')\n",
    "df.columns"
   ]
  },
  {
   "cell_type": "code",
   "execution_count": 14,
   "metadata": {},
   "outputs": [],
   "source": [
    "#dataset contains hindi even after translations in Ingredients columns, dropping these for convenience sake\n",
    "df = df['Ingredients']\n",
    "\n",
    "def isEnglish(s):\n",
    "    try:\n",
    "        s.encode(encoding='utf-8').decode('ascii')\n",
    "    except UnicodeDecodeError:\n",
    "        return False\n",
    "    else:\n",
    "        return True"
   ]
  },
  {
   "cell_type": "code",
   "execution_count": 15,
   "metadata": {},
   "outputs": [],
   "source": [
    "#create boolean mask\n",
    "mask = df.apply(isEnglish)"
   ]
  },
  {
   "cell_type": "markdown",
   "metadata": {},
   "source": [
    "####  <font color=red>The above returns a new Dataframe mask which has Ingredients in English"
   ]
  },
  {
   "cell_type": "code",
   "execution_count": 38,
   "metadata": {},
   "outputs": [
    {
     "data": {
      "text/plain": [
       "0       6 Karela (Bitter Gourd/ Pavakkai) - deseeded,S...\n",
       "1       2-1 / 2 cups rice - cooked, 3 tomatoes, 3 teas...\n",
       "2       1-1/2 cups Rice Vermicelli Noodles (Thin),1 On...\n",
       "3       500 grams Chicken,2 Onion - chopped,1 Tomato -...\n",
       "4       1 tablespoon chana dal, 1 tablespoon white ura...\n",
       "                              ...                        \n",
       "6857    2 cups Paneer (Homemade Cottage Cheese) - crum...\n",
       "6858    1-1/2 cup Risotto - cooked risotto (recipe bel...\n",
       "6859    1 cup Quinoa,3/4 cup Sugar,1 teaspoon Cardamom...\n",
       "6862    150 grams Spring Onion (Bulb & Greens) - chopp...\n",
       "6863    1 kg Chicken - medium pieces,1/2 cup Mustard o...\n",
       "Name: Ingredients, Length: 6258, dtype: object"
      ]
     },
     "execution_count": 38,
     "metadata": {},
     "output_type": "execute_result"
    }
   ],
   "source": [
    "mask[6860:6865]\n",
    "df = df[mask].dropna()\n",
    "df.shape\n",
    "df"
   ]
  },
  {
   "cell_type": "markdown",
   "metadata": {},
   "source": [
    "###  <font color=Green>Merging Data frame Mask with old data frame and deleting duplicate rows </font>"
   ]
  },
  {
   "cell_type": "code",
   "execution_count": 41,
   "metadata": {},
   "outputs": [
    {
     "name": "stdout",
     "output_type": "stream",
     "text": [
      "Food Data Old:  (6865, 13)\n",
      "New df which has Ingrdients in english : (6258,)\n"
     ]
    }
   ],
   "source": [
    "data_old = pd.read_csv('FoodRecipes.csv')\n",
    "print(\"Food Data Old: \",data_old.shape)\n",
    "print(\"New df which has Ingrdients in english :\",df.shape)"
   ]
  },
  {
   "cell_type": "markdown",
   "metadata": {},
   "source": [
    "##### <font color=blue>An inner join combines two DataFrames based on a join key and returns a new DataFrame that contains only those rows that have matching values in both of the original DataFrames. </font>"
   ]
  },
  {
   "cell_type": "code",
   "execution_count": 58,
   "metadata": {},
   "outputs": [
    {
     "data": {
      "text/plain": [
       "(6258, 14)"
      ]
     },
     "execution_count": 58,
     "metadata": {},
     "output_type": "execute_result"
    }
   ],
   "source": [
    "#lets have inner join that matches Ingredients ,Ingredients which has hindi values will be excluded\n",
    "result = pd.concat([data_old, df], axis=1, join='inner')\n",
    "result.shape"
   ]
  },
  {
   "cell_type": "markdown",
   "metadata": {},
   "source": [
    "#### <font color=Green>Dropping duplicate column (We have 2 ingredients column) </font>"
   ]
  },
  {
   "cell_type": "code",
   "execution_count": 50,
   "metadata": {},
   "outputs": [],
   "source": [
    "data_new=result.T.drop_duplicates().T"
   ]
  },
  {
   "cell_type": "code",
   "execution_count": 51,
   "metadata": {},
   "outputs": [
    {
     "data": {
      "text/plain": [
       "(6258, 13)"
      ]
     },
     "execution_count": 51,
     "metadata": {},
     "output_type": "execute_result"
    }
   ],
   "source": [
    "data_new.shape"
   ]
  },
  {
   "cell_type": "code",
   "execution_count": 59,
   "metadata": {},
   "outputs": [
    {
     "name": "stdout",
     "output_type": "stream",
     "text": [
      "Int64Index([   0,    1,    2,    3,    4,    5,    6,    7,    8,    9,\n",
      "            ...\n",
      "            6851, 6852, 6854, 6855, 6856, 6857, 6858, 6859, 6862, 6863],\n",
      "           dtype='int64', length=6258)\n"
     ]
    }
   ],
   "source": [
    "print(data_new.index)"
   ]
  },
  {
   "cell_type": "markdown",
   "metadata": {},
   "source": [
    "* <font color=blue>  The Recipe no and index values are not in order after merging,let's reset the index number </font>"
   ]
  },
  {
   "cell_type": "code",
   "execution_count": 100,
   "metadata": {},
   "outputs": [
    {
     "data": {
      "text/html": [
       "<div>\n",
       "<style scoped>\n",
       "    .dataframe tbody tr th:only-of-type {\n",
       "        vertical-align: middle;\n",
       "    }\n",
       "\n",
       "    .dataframe tbody tr th {\n",
       "        vertical-align: top;\n",
       "    }\n",
       "\n",
       "    .dataframe thead th {\n",
       "        text-align: right;\n",
       "    }\n",
       "</style>\n",
       "<table border=\"1\" class=\"dataframe\">\n",
       "  <thead>\n",
       "    <tr style=\"text-align: right;\">\n",
       "      <th></th>\n",
       "      <th>Recipe No</th>\n",
       "      <th>Recipe Name</th>\n",
       "      <th>Ingredients</th>\n",
       "      <th>Preparation Time/Min</th>\n",
       "      <th>Cooking Time/Min</th>\n",
       "      <th>Total Time/Min</th>\n",
       "      <th>Servings</th>\n",
       "      <th>Cuisine</th>\n",
       "      <th>Course</th>\n",
       "      <th>Diet</th>\n",
       "      <th>Instructions</th>\n",
       "      <th>Link</th>\n",
       "      <th>Total Time</th>\n",
       "      <th>Ingredients_count</th>\n",
       "    </tr>\n",
       "    <tr>\n",
       "      <th>level_0</th>\n",
       "      <th></th>\n",
       "      <th></th>\n",
       "      <th></th>\n",
       "      <th></th>\n",
       "      <th></th>\n",
       "      <th></th>\n",
       "      <th></th>\n",
       "      <th></th>\n",
       "      <th></th>\n",
       "      <th></th>\n",
       "      <th></th>\n",
       "      <th></th>\n",
       "      <th></th>\n",
       "      <th></th>\n",
       "    </tr>\n",
       "  </thead>\n",
       "  <tbody>\n",
       "    <tr>\n",
       "      <th>1250</th>\n",
       "      <td>1251</td>\n",
       "      <td>Recipe Wheat Phulka Yeast- Diabetic Friendly B...</td>\n",
       "      <td>1/2 cup Ragi Flour (Finger Millet/ Nagli),1 cu...</td>\n",
       "      <td>10</td>\n",
       "      <td>15</td>\n",
       "      <td>25</td>\n",
       "      <td>4</td>\n",
       "      <td>Indian</td>\n",
       "      <td>Main Course</td>\n",
       "      <td>Diabetic Friendly</td>\n",
       "      <td>To begin making the Ragi Wheat Phulka Recipe, ...</td>\n",
       "      <td>http://www.archanaskitchen.com/ragi-wheat-phul...</td>\n",
       "      <td>00:25</td>\n",
       "      <td>5</td>\n",
       "    </tr>\n",
       "    <tr>\n",
       "      <th>1251</th>\n",
       "      <td>1252</td>\n",
       "      <td>Grapes Muffin Recipe</td>\n",
       "      <td>1 cup Whole Wheat Flour - or brown bread flour...</td>\n",
       "      <td>20</td>\n",
       "      <td>20</td>\n",
       "      <td>40</td>\n",
       "      <td>8</td>\n",
       "      <td>Continental</td>\n",
       "      <td>Dessert</td>\n",
       "      <td>Vegetarian</td>\n",
       "      <td>To begin making the Grapes Muffin recipe, preh...</td>\n",
       "      <td>http://www.archanaskitchen.com/grapes-muffin-r...</td>\n",
       "      <td>00:40</td>\n",
       "      <td>13</td>\n",
       "    </tr>\n",
       "    <tr>\n",
       "      <th>1252</th>\n",
       "      <td>1253</td>\n",
       "      <td>Karnataka Style Bassaru Palya Recipe - Toor Da...</td>\n",
       "      <td>1 cup Arhar dal (Split Toor Dal),1/2 cup Dill ...</td>\n",
       "      <td>5</td>\n",
       "      <td>20</td>\n",
       "      <td>25</td>\n",
       "      <td>4</td>\n",
       "      <td>Karnataka</td>\n",
       "      <td>Side Dish</td>\n",
       "      <td>Vegetarian</td>\n",
       "      <td>To begin making the Karnataka Style Bassaru Pa...</td>\n",
       "      <td>https://www.archanaskitchen.com/karantaka-styl...</td>\n",
       "      <td>00:25</td>\n",
       "      <td>11</td>\n",
       "    </tr>\n",
       "    <tr>\n",
       "      <th>1253</th>\n",
       "      <td>1254</td>\n",
       "      <td>Karwar Style Phodni Phov Recipe- Red Rice Poha...</td>\n",
       "      <td>2 cups Red Poha (Flattened Red Rice),4 tablesp...</td>\n",
       "      <td>10</td>\n",
       "      <td>10</td>\n",
       "      <td>20</td>\n",
       "      <td>4</td>\n",
       "      <td>Karnataka</td>\n",
       "      <td>South Indian Breakfast</td>\n",
       "      <td>Vegetarian</td>\n",
       "      <td>To begin making Karwar Style Phodni Phov Recip...</td>\n",
       "      <td>http://www.archanaskitchen.com/phodni-phov-rec...</td>\n",
       "      <td>00:20</td>\n",
       "      <td>11</td>\n",
       "    </tr>\n",
       "    <tr>\n",
       "      <th>1254</th>\n",
       "      <td>1255</td>\n",
       "      <td>Chinese Bhel Recipe - Crispy Noodle Salad</td>\n",
       "      <td>150 grams Hakka Noodles,1 tablespoon Sunflower...</td>\n",
       "      <td>15</td>\n",
       "      <td>30</td>\n",
       "      <td>45</td>\n",
       "      <td>2</td>\n",
       "      <td>Fusion</td>\n",
       "      <td>Snack</td>\n",
       "      <td>Vegetarian</td>\n",
       "      <td>To begin making the Chinese Bhel, get all the ...</td>\n",
       "      <td>https://www.archanaskitchen.com/chinese-bhel-r...</td>\n",
       "      <td>00:45</td>\n",
       "      <td>11</td>\n",
       "    </tr>\n",
       "  </tbody>\n",
       "</table>\n",
       "</div>"
      ],
      "text/plain": [
       "         Recipe No                                        Recipe Name  \\\n",
       "level_0                                                                 \n",
       "1250          1251  Recipe Wheat Phulka Yeast- Diabetic Friendly B...   \n",
       "1251          1252                               Grapes Muffin Recipe   \n",
       "1252          1253  Karnataka Style Bassaru Palya Recipe - Toor Da...   \n",
       "1253          1254  Karwar Style Phodni Phov Recipe- Red Rice Poha...   \n",
       "1254          1255          Chinese Bhel Recipe - Crispy Noodle Salad   \n",
       "\n",
       "                                               Ingredients  \\\n",
       "level_0                                                      \n",
       "1250     1/2 cup Ragi Flour (Finger Millet/ Nagli),1 cu...   \n",
       "1251     1 cup Whole Wheat Flour - or brown bread flour...   \n",
       "1252     1 cup Arhar dal (Split Toor Dal),1/2 cup Dill ...   \n",
       "1253     2 cups Red Poha (Flattened Red Rice),4 tablesp...   \n",
       "1254     150 grams Hakka Noodles,1 tablespoon Sunflower...   \n",
       "\n",
       "        Preparation Time/Min Cooking Time/Min Total Time/Min Servings  \\\n",
       "level_0                                                                 \n",
       "1250                      10               15             25        4   \n",
       "1251                      20               20             40        8   \n",
       "1252                       5               20             25        4   \n",
       "1253                      10               10             20        4   \n",
       "1254                      15               30             45        2   \n",
       "\n",
       "             Cuisine                  Course               Diet  \\\n",
       "level_0                                                           \n",
       "1250          Indian             Main Course  Diabetic Friendly   \n",
       "1251     Continental                 Dessert         Vegetarian   \n",
       "1252       Karnataka               Side Dish         Vegetarian   \n",
       "1253       Karnataka  South Indian Breakfast         Vegetarian   \n",
       "1254          Fusion                   Snack         Vegetarian   \n",
       "\n",
       "                                              Instructions  \\\n",
       "level_0                                                      \n",
       "1250     To begin making the Ragi Wheat Phulka Recipe, ...   \n",
       "1251     To begin making the Grapes Muffin recipe, preh...   \n",
       "1252     To begin making the Karnataka Style Bassaru Pa...   \n",
       "1253     To begin making Karwar Style Phodni Phov Recip...   \n",
       "1254     To begin making the Chinese Bhel, get all the ...   \n",
       "\n",
       "                                                      Link Total Time  \\\n",
       "level_0                                                                 \n",
       "1250     http://www.archanaskitchen.com/ragi-wheat-phul...      00:25   \n",
       "1251     http://www.archanaskitchen.com/grapes-muffin-r...      00:40   \n",
       "1252     https://www.archanaskitchen.com/karantaka-styl...      00:25   \n",
       "1253     http://www.archanaskitchen.com/phodni-phov-rec...      00:20   \n",
       "1254     https://www.archanaskitchen.com/chinese-bhel-r...      00:45   \n",
       "\n",
       "         Ingredients_count  \n",
       "level_0                     \n",
       "1250                     5  \n",
       "1251                    13  \n",
       "1252                    11  \n",
       "1253                    11  \n",
       "1254                    11  "
      ]
     },
     "execution_count": 100,
     "metadata": {},
     "output_type": "execute_result"
    }
   ],
   "source": [
    "#data_new.reset_index(inplace = True)\n",
    "#data_new.set_index(['level_0'], inplace = True)\n",
    "#data_new.drop(['index', 'Recipe No'], axis=1, inplace= True)\n",
    "data_new.rename(columns = {'Total Time)': 'Total Time'}, inplace = True)\n",
    "#data_new.columns\n",
    "#data_new.insert(0, 'Recipe No', range(1, 1 + len(data_new)))\n",
    "data_new[1250:1255]\n"
   ]
  },
  {
   "cell_type": "markdown",
   "metadata": {},
   "source": [
    "## <font color=Green> Does the number of ingredients have any effect on cooking time? </font>"
   ]
  },
  {
   "cell_type": "markdown",
   "metadata": {},
   "source": [
    "#### <font color=Green> How many ingredients are there in each recipes? </font>"
   ]
  },
  {
   "cell_type": "code",
   "execution_count": 102,
   "metadata": {},
   "outputs": [],
   "source": [
    "Ingredients_count= data_new['Ingredients'].apply(lambda n: len(n.split(',')))\n",
    "data_new['Ingredients_count']= Ingredients_count\n",
    "data_new[['Ingredients','Ingredients_count']]\n",
    "\n",
    "#writing to new data\n",
    "data_cleaning_process= data_new.to_csv('Food_Recipes.csv')\n",
    "\n"
   ]
  },
  {
   "cell_type": "code",
   "execution_count": 2,
   "metadata": {},
   "outputs": [
    {
     "data": {
      "text/plain": [
       "Index(['level_0', 'Recipe No', 'Recipe Name', 'Ingredients',\n",
       "       'Preparation Time/Min', 'Cooking Time/Min', 'Total Time/Min',\n",
       "       'Servings', 'Cuisine', 'Course', 'Diet', 'Instructions', 'Link',\n",
       "       'Total Time', 'Ingredients_count'],\n",
       "      dtype='object')"
      ]
     },
     "execution_count": 2,
     "metadata": {},
     "output_type": "execute_result"
    }
   ],
   "source": [
    "food_df = pd.read_csv('Food_Recipes.csv')\n",
    "food_df.columns"
   ]
  },
  {
   "cell_type": "code",
   "execution_count": 4,
   "metadata": {},
   "outputs": [
    {
     "data": {
      "text/plain": [
       "count    6258.000000\n",
       "mean       12.224513\n",
       "std         5.050386\n",
       "min         1.000000\n",
       "25%         9.000000\n",
       "50%        12.000000\n",
       "75%        15.000000\n",
       "max        45.000000\n",
       "Name: Ingredients_count, dtype: float64"
      ]
     },
     "execution_count": 4,
     "metadata": {},
     "output_type": "execute_result"
    }
   ],
   "source": [
    "food_df['Ingredients_count'].describe()"
   ]
  },
  {
   "cell_type": "code",
   "execution_count": 31,
   "metadata": {},
   "outputs": [
    {
     "data": {
      "text/html": [
       "<div>\n",
       "<style scoped>\n",
       "    .dataframe tbody tr th:only-of-type {\n",
       "        vertical-align: middle;\n",
       "    }\n",
       "\n",
       "    .dataframe tbody tr th {\n",
       "        vertical-align: top;\n",
       "    }\n",
       "\n",
       "    .dataframe thead th {\n",
       "        text-align: right;\n",
       "    }\n",
       "</style>\n",
       "<table border=\"1\" class=\"dataframe\">\n",
       "  <thead>\n",
       "    <tr style=\"text-align: right;\">\n",
       "      <th></th>\n",
       "      <th>Cooking Time/Min</th>\n",
       "      <th>Ingredients_count</th>\n",
       "    </tr>\n",
       "  </thead>\n",
       "  <tbody>\n",
       "    <tr>\n",
       "      <th>Cooking Time/Min</th>\n",
       "      <td>1.000000</td>\n",
       "      <td>0.085873</td>\n",
       "    </tr>\n",
       "    <tr>\n",
       "      <th>Ingredients_count</th>\n",
       "      <td>0.085873</td>\n",
       "      <td>1.000000</td>\n",
       "    </tr>\n",
       "  </tbody>\n",
       "</table>\n",
       "</div>"
      ],
      "text/plain": [
       "                   Cooking Time/Min  Ingredients_count\n",
       "Cooking Time/Min           1.000000           0.085873\n",
       "Ingredients_count          0.085873           1.000000"
      ]
     },
     "execution_count": 31,
     "metadata": {},
     "output_type": "execute_result"
    }
   ],
   "source": [
    "food_df[['Cooking Time/Min','Ingredients_count']].corr()"
   ]
  },
  {
   "cell_type": "code",
   "execution_count": 6,
   "metadata": {},
   "outputs": [
    {
     "data": {
      "text/plain": [
       "(0.0, 945.0)"
      ]
     },
     "execution_count": 6,
     "metadata": {},
     "output_type": "execute_result"
    },
    {
     "data": {
      "image/png": "[encoded data removed]",
      "text/plain": [
       "<Figure size 432x288 with 1 Axes>"
      ]
     },
     "metadata": {
      "needs_background": "light"
     },
     "output_type": "display_data"
    }
   ],
   "source": [
    "sns.scatterplot(x=\"Ingredients_count\", y = 'Cooking Time/Min', data=food_df)\n",
    "plt.ylim(0,)"
   ]
  },
  {
   "cell_type": "markdown",
   "metadata": {},
   "source": [
    "###### <font color=red>The above plot suggests the absence of a linear relationship between the two variables </font>"
   ]
  },
  {
   "cell_type": "markdown",
   "metadata": {},
   "source": [
    "### <font color=Green> Total Cooking Time (What if user has more time/less cooking time)</font>"
   ]
  },
  {
   "cell_type": "code",
   "execution_count": 70,
   "metadata": {},
   "outputs": [
    {
     "name": "stdout",
     "output_type": "stream",
     "text": [
      "(230, 15)\n"
     ]
    },
    {
     "data": {
      "text/html": [
       "<div>\n",
       "<style scoped>\n",
       "    .dataframe tbody tr th:only-of-type {\n",
       "        vertical-align: middle;\n",
       "    }\n",
       "\n",
       "    .dataframe tbody tr th {\n",
       "        vertical-align: top;\n",
       "    }\n",
       "\n",
       "    .dataframe thead th {\n",
       "        text-align: right;\n",
       "    }\n",
       "</style>\n",
       "<table border=\"1\" class=\"dataframe\">\n",
       "  <thead>\n",
       "    <tr style=\"text-align: right;\">\n",
       "      <th></th>\n",
       "      <th>Recipe Name</th>\n",
       "      <th>Total Time/Min</th>\n",
       "    </tr>\n",
       "  </thead>\n",
       "  <tbody>\n",
       "    <tr>\n",
       "      <th>484</th>\n",
       "      <td>Mango Kalakand Recipe</td>\n",
       "      <td>200</td>\n",
       "    </tr>\n",
       "    <tr>\n",
       "      <th>2921</th>\n",
       "      <td>Murungai Keerai Masala Vadai Recipe</td>\n",
       "      <td>200</td>\n",
       "    </tr>\n",
       "    <tr>\n",
       "      <th>1520</th>\n",
       "      <td>Murungai Keera Masala Vada Recipe - Murungai K...</td>\n",
       "      <td>200</td>\n",
       "    </tr>\n",
       "    <tr>\n",
       "      <th>5634</th>\n",
       "      <td>Whole Wheat Vegetarian Stromboli Recipe</td>\n",
       "      <td>200</td>\n",
       "    </tr>\n",
       "    <tr>\n",
       "      <th>5509</th>\n",
       "      <td>Grilled cheese fenugreek tikki recipe</td>\n",
       "      <td>200</td>\n",
       "    </tr>\n",
       "    <tr>\n",
       "      <th>...</th>\n",
       "      <td>...</td>\n",
       "      <td>...</td>\n",
       "    </tr>\n",
       "    <tr>\n",
       "      <th>962</th>\n",
       "      <td>Kollu Masala Dosa Recipe - High Protein Horse ...</td>\n",
       "      <td>960</td>\n",
       "    </tr>\n",
       "    <tr>\n",
       "      <th>2756</th>\n",
       "      <td>Dairy Free Balsamic Strawberry Ice-cream Recipe</td>\n",
       "      <td>980</td>\n",
       "    </tr>\n",
       "    <tr>\n",
       "      <th>5907</th>\n",
       "      <td>Homemade Quick Puff Pastry Sheet Recipe | Perf...</td>\n",
       "      <td>1440</td>\n",
       "    </tr>\n",
       "    <tr>\n",
       "      <th>879</th>\n",
       "      <td>Kavati recipe - Nepali Beans Soup (Recipe)</td>\n",
       "      <td>1470</td>\n",
       "    </tr>\n",
       "    <tr>\n",
       "      <th>3932</th>\n",
       "      <td>Traditional Christmas Cake Recipe</td>\n",
       "      <td>2925</td>\n",
       "    </tr>\n",
       "  </tbody>\n",
       "</table>\n",
       "<p>230 rows × 2 columns</p>\n",
       "</div>"
      ],
      "text/plain": [
       "                                            Recipe Name  Total Time/Min\n",
       "484                               Mango Kalakand Recipe             200\n",
       "2921                Murungai Keerai Masala Vadai Recipe             200\n",
       "1520  Murungai Keera Masala Vada Recipe - Murungai K...             200\n",
       "5634            Whole Wheat Vegetarian Stromboli Recipe             200\n",
       "5509              Grilled cheese fenugreek tikki recipe             200\n",
       "...                                                 ...             ...\n",
       "962   Kollu Masala Dosa Recipe - High Protein Horse ...             960\n",
       "2756    Dairy Free Balsamic Strawberry Ice-cream Recipe             980\n",
       "5907  Homemade Quick Puff Pastry Sheet Recipe | Perf...            1440\n",
       "879          Kavati recipe - Nepali Beans Soup (Recipe)            1470\n",
       "3932                  Traditional Christmas Cake Recipe            2925\n",
       "\n",
       "[230 rows x 2 columns]"
      ]
     },
     "execution_count": 70,
     "metadata": {},
     "output_type": "execute_result"
    }
   ],
   "source": [
    "recipe=food_df.loc[food_df['Total Time/Min'] >= 200]\n",
    "print(recipe.shape)\n",
    "recipe[['Recipe Name','Total Time/Min']].sort_values(by=['Total Time/Min'])"
   ]
  },
  {
   "cell_type": "markdown",
   "metadata": {},
   "source": [
    "#### <font color=red>230 recipes have cooking time more than 200 mins </font>"
   ]
  },
  {
   "cell_type": "markdown",
   "metadata": {},
   "source": [
    "### <font color=Green>What if the user has less than 30 mins to cook a recipe? </font>"
   ]
  },
  {
   "cell_type": "code",
   "execution_count": 76,
   "metadata": {},
   "outputs": [
    {
     "data": {
      "text/html": [
       "<div>\n",
       "<style scoped>\n",
       "    .dataframe tbody tr th:only-of-type {\n",
       "        vertical-align: middle;\n",
       "    }\n",
       "\n",
       "    .dataframe tbody tr th {\n",
       "        vertical-align: top;\n",
       "    }\n",
       "\n",
       "    .dataframe thead th {\n",
       "        text-align: right;\n",
       "    }\n",
       "</style>\n",
       "<table border=\"1\" class=\"dataframe\">\n",
       "  <thead>\n",
       "    <tr style=\"text-align: right;\">\n",
       "      <th></th>\n",
       "      <th>Recipe Name</th>\n",
       "      <th>Total Time/Min</th>\n",
       "    </tr>\n",
       "  </thead>\n",
       "  <tbody>\n",
       "    <tr>\n",
       "      <th>5934</th>\n",
       "      <td>Besan vegetable recipe</td>\n",
       "      <td>0</td>\n",
       "    </tr>\n",
       "    <tr>\n",
       "      <th>5435</th>\n",
       "      <td>Kakka Orotti Recipe - Steamed Mini Rice Balls ...</td>\n",
       "      <td>0</td>\n",
       "    </tr>\n",
       "    <tr>\n",
       "      <th>2230</th>\n",
       "      <td>Homemade Ghee Recipe</td>\n",
       "      <td>0</td>\n",
       "    </tr>\n",
       "    <tr>\n",
       "      <th>3059</th>\n",
       "      <td>Coffee Recipe With Instant Coffee Powder</td>\n",
       "      <td>4</td>\n",
       "    </tr>\n",
       "    <tr>\n",
       "      <th>4110</th>\n",
       "      <td>Fried Egg Recipe - Sunny Side Up</td>\n",
       "      <td>4</td>\n",
       "    </tr>\n",
       "    <tr>\n",
       "      <th>...</th>\n",
       "      <td>...</td>\n",
       "      <td>...</td>\n",
       "    </tr>\n",
       "    <tr>\n",
       "      <th>3429</th>\n",
       "      <td>Rajasthani Khoya Matar Sabzi Recipe</td>\n",
       "      <td>30</td>\n",
       "    </tr>\n",
       "    <tr>\n",
       "      <th>3430</th>\n",
       "      <td>Black Bean Noodles Recipe</td>\n",
       "      <td>30</td>\n",
       "    </tr>\n",
       "    <tr>\n",
       "      <th>3431</th>\n",
       "      <td>Pudina Quinoa Recipe</td>\n",
       "      <td>30</td>\n",
       "    </tr>\n",
       "    <tr>\n",
       "      <th>3197</th>\n",
       "      <td>Mullangi Poriyal recipe - South Indian Style R...</td>\n",
       "      <td>30</td>\n",
       "    </tr>\n",
       "    <tr>\n",
       "      <th>3688</th>\n",
       "      <td>Menthe / Fenugreek Seeds Tambli Recipe (Karnat...</td>\n",
       "      <td>30</td>\n",
       "    </tr>\n",
       "  </tbody>\n",
       "</table>\n",
       "<p>1868 rows × 2 columns</p>\n",
       "</div>"
      ],
      "text/plain": [
       "                                            Recipe Name  Total Time/Min\n",
       "5934                             Besan vegetable recipe               0\n",
       "5435  Kakka Orotti Recipe - Steamed Mini Rice Balls ...               0\n",
       "2230                               Homemade Ghee Recipe               0\n",
       "3059           Coffee Recipe With Instant Coffee Powder               4\n",
       "4110                   Fried Egg Recipe - Sunny Side Up               4\n",
       "...                                                 ...             ...\n",
       "3429                Rajasthani Khoya Matar Sabzi Recipe              30\n",
       "3430                          Black Bean Noodles Recipe              30\n",
       "3431                               Pudina Quinoa Recipe              30\n",
       "3197  Mullangi Poriyal recipe - South Indian Style R...              30\n",
       "3688  Menthe / Fenugreek Seeds Tambli Recipe (Karnat...              30\n",
       "\n",
       "[1868 rows x 2 columns]"
      ]
     },
     "execution_count": 76,
     "metadata": {},
     "output_type": "execute_result"
    }
   ],
   "source": [
    "recipe1=food_df.loc[food_df['Total Time/Min'] <= 30]\n",
    "recipe1.shape\n",
    "recipe1[['Recipe Name','Total Time/Min']].sort_values(by=['Total Time/Min'])"
   ]
  },
  {
   "cell_type": "markdown",
   "metadata": {},
   "source": [
    "###### <font color=red>Less than 30 mins we 1868 recipes, available in our dataset </font>"
   ]
  },
  {
   "cell_type": "markdown",
   "metadata": {},
   "source": [
    "## <font color=Green>Groupby vs Pivot </font>"
   ]
  },
  {
   "cell_type": "markdown",
   "metadata": {},
   "source": [
    "### The \"groupby\" method groups data by different categories"
   ]
  },
  {
   "cell_type": "code",
   "execution_count": 42,
   "metadata": {},
   "outputs": [
    {
     "data": {
      "text/html": [
       "<div>\n",
       "<style scoped>\n",
       "    .dataframe tbody tr th:only-of-type {\n",
       "        vertical-align: middle;\n",
       "    }\n",
       "\n",
       "    .dataframe tbody tr th {\n",
       "        vertical-align: top;\n",
       "    }\n",
       "\n",
       "    .dataframe thead th {\n",
       "        text-align: right;\n",
       "    }\n",
       "</style>\n",
       "<table border=\"1\" class=\"dataframe\">\n",
       "  <thead>\n",
       "    <tr style=\"text-align: right;\">\n",
       "      <th></th>\n",
       "      <th>Total Time/Min</th>\n",
       "    </tr>\n",
       "    <tr>\n",
       "      <th>Course</th>\n",
       "      <th></th>\n",
       "    </tr>\n",
       "  </thead>\n",
       "  <tbody>\n",
       "    <tr>\n",
       "      <th>Eggetarian</th>\n",
       "      <td>10.000000</td>\n",
       "    </tr>\n",
       "    <tr>\n",
       "      <th>Sugar Free Diet</th>\n",
       "      <td>15.000000</td>\n",
       "    </tr>\n",
       "    <tr>\n",
       "      <th>No Onion No Garlic (Sattvic)</th>\n",
       "      <td>30.000000</td>\n",
       "    </tr>\n",
       "    <tr>\n",
       "      <th>Vegan</th>\n",
       "      <td>31.666667</td>\n",
       "    </tr>\n",
       "    <tr>\n",
       "      <th>Side Dish</th>\n",
       "      <td>38.953881</td>\n",
       "    </tr>\n",
       "    <tr>\n",
       "      <th>Brunch</th>\n",
       "      <td>40.000000</td>\n",
       "    </tr>\n",
       "    <tr>\n",
       "      <th>World Breakfast</th>\n",
       "      <td>41.468504</td>\n",
       "    </tr>\n",
       "    <tr>\n",
       "      <th>Appetizer</th>\n",
       "      <td>50.309365</td>\n",
       "    </tr>\n",
       "    <tr>\n",
       "      <th>North Indian Breakfast</th>\n",
       "      <td>52.330189</td>\n",
       "    </tr>\n",
       "    <tr>\n",
       "      <th>Non Vegeterian</th>\n",
       "      <td>52.500000</td>\n",
       "    </tr>\n",
       "    <tr>\n",
       "      <th>Lunch</th>\n",
       "      <td>53.656843</td>\n",
       "    </tr>\n",
       "    <tr>\n",
       "      <th>One Pot Dish</th>\n",
       "      <td>56.551724</td>\n",
       "    </tr>\n",
       "    <tr>\n",
       "      <th>Dinner</th>\n",
       "      <td>59.148148</td>\n",
       "    </tr>\n",
       "    <tr>\n",
       "      <th>Snack</th>\n",
       "      <td>60.985577</td>\n",
       "    </tr>\n",
       "    <tr>\n",
       "      <th>Vegetarian</th>\n",
       "      <td>61.340909</td>\n",
       "    </tr>\n",
       "    <tr>\n",
       "      <th>Indian Breakfast</th>\n",
       "      <td>63.757895</td>\n",
       "    </tr>\n",
       "    <tr>\n",
       "      <th>Main Course</th>\n",
       "      <td>70.422680</td>\n",
       "    </tr>\n",
       "    <tr>\n",
       "      <th>Dessert</th>\n",
       "      <td>95.199052</td>\n",
       "    </tr>\n",
       "    <tr>\n",
       "      <th>South Indian Breakfast</th>\n",
       "      <td>115.225941</td>\n",
       "    </tr>\n",
       "    <tr>\n",
       "      <th>High Protein Vegetarian</th>\n",
       "      <td>162.142857</td>\n",
       "    </tr>\n",
       "  </tbody>\n",
       "</table>\n",
       "</div>"
      ],
      "text/plain": [
       "                              Total Time/Min\n",
       "Course                                      \n",
       "Eggetarian                         10.000000\n",
       "Sugar Free Diet                    15.000000\n",
       "No Onion No Garlic (Sattvic)       30.000000\n",
       "Vegan                              31.666667\n",
       "Side Dish                          38.953881\n",
       "Brunch                             40.000000\n",
       "World Breakfast                    41.468504\n",
       "Appetizer                          50.309365\n",
       "North Indian Breakfast             52.330189\n",
       "Non Vegeterian                     52.500000\n",
       "Lunch                              53.656843\n",
       "One Pot Dish                       56.551724\n",
       "Dinner                             59.148148\n",
       "Snack                              60.985577\n",
       "Vegetarian                         61.340909\n",
       "Indian Breakfast                   63.757895\n",
       "Main Course                        70.422680\n",
       "Dessert                            95.199052\n",
       "South Indian Breakfast            115.225941\n",
       "High Protein Vegetarian           162.142857"
      ]
     },
     "execution_count": 42,
     "metadata": {},
     "output_type": "execute_result"
    }
   ],
   "source": [
    "df_group_one= food_df[['Course','Diet','Recipe Name','Total Time/Min']]\n",
    "df_group_one = df_group_one.groupby(['Course'],as_index=True).mean()\n",
    "df_group_one.sort_values(by=['Total Time/Min'], inplace= False)\n"
   ]
  },
  {
   "cell_type": "code",
   "execution_count": 40,
   "metadata": {},
   "outputs": [
    {
     "data": {
      "text/plain": [
       "(6245, 4)"
      ]
     },
     "execution_count": 40,
     "metadata": {},
     "output_type": "execute_result"
    }
   ],
   "source": [
    "df_grouping = food_df[['Course','Diet','Recipe Name','Total Time/Min']]\n",
    "grouping_data = df_grouping.groupby(['Course','Diet','Recipe Name'], as_index= False).mean()\n",
    "grouping_data[:20]\n",
    "#grouping_data.shape"
   ]
  },
  {
   "cell_type": "code",
   "execution_count": 44,
   "metadata": {},
   "outputs": [
    {
     "data": {
      "text/html": [
       "<div>\n",
       "<style scoped>\n",
       "    .dataframe tbody tr th:only-of-type {\n",
       "        vertical-align: middle;\n",
       "    }\n",
       "\n",
       "    .dataframe tbody tr th {\n",
       "        vertical-align: top;\n",
       "    }\n",
       "\n",
       "    .dataframe thead th {\n",
       "        text-align: right;\n",
       "    }\n",
       "</style>\n",
       "<table border=\"1\" class=\"dataframe\">\n",
       "  <thead>\n",
       "    <tr style=\"text-align: right;\">\n",
       "      <th></th>\n",
       "      <th></th>\n",
       "      <th>Total Time/Min</th>\n",
       "    </tr>\n",
       "    <tr>\n",
       "      <th>Cuisine</th>\n",
       "      <th>Diet</th>\n",
       "      <th></th>\n",
       "    </tr>\n",
       "  </thead>\n",
       "  <tbody>\n",
       "    <tr>\n",
       "      <th>Afghan</th>\n",
       "      <th>Vegetarian</th>\n",
       "      <td>25.000000</td>\n",
       "    </tr>\n",
       "    <tr>\n",
       "      <th rowspan=\"5\" valign=\"top\">African</th>\n",
       "      <th>Eggetarian</th>\n",
       "      <td>47.500000</td>\n",
       "    </tr>\n",
       "    <tr>\n",
       "      <th>High Protein Non Vegetarian</th>\n",
       "      <td>95.000000</td>\n",
       "    </tr>\n",
       "    <tr>\n",
       "      <th>High Protein Vegetarian</th>\n",
       "      <td>51.000000</td>\n",
       "    </tr>\n",
       "    <tr>\n",
       "      <th>Non Vegeterian</th>\n",
       "      <td>55.000000</td>\n",
       "    </tr>\n",
       "    <tr>\n",
       "      <th>Vegetarian</th>\n",
       "      <td>45.714286</td>\n",
       "    </tr>\n",
       "    <tr>\n",
       "      <th rowspan=\"4\" valign=\"top\">American</th>\n",
       "      <th>High Protein Non Vegetarian</th>\n",
       "      <td>120.000000</td>\n",
       "    </tr>\n",
       "    <tr>\n",
       "      <th>High Protein Vegetarian</th>\n",
       "      <td>35.000000</td>\n",
       "    </tr>\n",
       "    <tr>\n",
       "      <th>Non Vegeterian</th>\n",
       "      <td>27.500000</td>\n",
       "    </tr>\n",
       "    <tr>\n",
       "      <th>Vegetarian</th>\n",
       "      <td>91.666667</td>\n",
       "    </tr>\n",
       "    <tr>\n",
       "      <th rowspan=\"6\" valign=\"top\">Andhra</th>\n",
       "      <th>Diabetic Friendly</th>\n",
       "      <td>39.285714</td>\n",
       "    </tr>\n",
       "    <tr>\n",
       "      <th>Gluten Free</th>\n",
       "      <td>100.000000</td>\n",
       "    </tr>\n",
       "    <tr>\n",
       "      <th>High Protein Non Vegetarian</th>\n",
       "      <td>55.000000</td>\n",
       "    </tr>\n",
       "    <tr>\n",
       "      <th>High Protein Vegetarian</th>\n",
       "      <td>61.000000</td>\n",
       "    </tr>\n",
       "    <tr>\n",
       "      <th>Non Vegeterian</th>\n",
       "      <td>42.000000</td>\n",
       "    </tr>\n",
       "    <tr>\n",
       "      <th>Vegetarian</th>\n",
       "      <td>48.060241</td>\n",
       "    </tr>\n",
       "    <tr>\n",
       "      <th rowspan=\"2\" valign=\"top\">Appetizer</th>\n",
       "      <th>Eggetarian</th>\n",
       "      <td>60.000000</td>\n",
       "    </tr>\n",
       "    <tr>\n",
       "      <th>High Protein Vegetarian</th>\n",
       "      <td>245.000000</td>\n",
       "    </tr>\n",
       "    <tr>\n",
       "      <th>Arab</th>\n",
       "      <th>Vegetarian</th>\n",
       "      <td>55.000000</td>\n",
       "    </tr>\n",
       "    <tr>\n",
       "      <th rowspan=\"8\" valign=\"top\">Asian</th>\n",
       "      <th>Diabetic Friendly</th>\n",
       "      <td>25.000000</td>\n",
       "    </tr>\n",
       "    <tr>\n",
       "      <th>Eggetarian</th>\n",
       "      <td>33.333333</td>\n",
       "    </tr>\n",
       "    <tr>\n",
       "      <th>Gluten Free</th>\n",
       "      <td>7.000000</td>\n",
       "    </tr>\n",
       "    <tr>\n",
       "      <th>High Protein Non Vegetarian</th>\n",
       "      <td>25.000000</td>\n",
       "    </tr>\n",
       "    <tr>\n",
       "      <th>High Protein Vegetarian</th>\n",
       "      <td>45.000000</td>\n",
       "    </tr>\n",
       "    <tr>\n",
       "      <th>Non Vegeterian</th>\n",
       "      <td>40.000000</td>\n",
       "    </tr>\n",
       "    <tr>\n",
       "      <th>Vegan</th>\n",
       "      <td>25.000000</td>\n",
       "    </tr>\n",
       "    <tr>\n",
       "      <th>Vegetarian</th>\n",
       "      <td>42.425000</td>\n",
       "    </tr>\n",
       "    <tr>\n",
       "      <th rowspan=\"6\" valign=\"top\">Assamese</th>\n",
       "      <th>Eggetarian</th>\n",
       "      <td>37.500000</td>\n",
       "    </tr>\n",
       "    <tr>\n",
       "      <th>Gluten Free</th>\n",
       "      <td>165.000000</td>\n",
       "    </tr>\n",
       "    <tr>\n",
       "      <th>High Protein Non Vegetarian</th>\n",
       "      <td>30.000000</td>\n",
       "    </tr>\n",
       "    <tr>\n",
       "      <th>High Protein Vegetarian</th>\n",
       "      <td>65.000000</td>\n",
       "    </tr>\n",
       "    <tr>\n",
       "      <th>Non Vegeterian</th>\n",
       "      <td>41.250000</td>\n",
       "    </tr>\n",
       "    <tr>\n",
       "      <th>Vegetarian</th>\n",
       "      <td>34.615385</td>\n",
       "    </tr>\n",
       "    <tr>\n",
       "      <th rowspan=\"6\" valign=\"top\">Awadhi</th>\n",
       "      <th>Diabetic Friendly</th>\n",
       "      <td>35.000000</td>\n",
       "    </tr>\n",
       "    <tr>\n",
       "      <th>Eggetarian</th>\n",
       "      <td>42.500000</td>\n",
       "    </tr>\n",
       "    <tr>\n",
       "      <th>High Protein Non Vegetarian</th>\n",
       "      <td>42.500000</td>\n",
       "    </tr>\n",
       "    <tr>\n",
       "      <th>High Protein Vegetarian</th>\n",
       "      <td>46.000000</td>\n",
       "    </tr>\n",
       "    <tr>\n",
       "      <th>Non Vegeterian</th>\n",
       "      <td>161.666667</td>\n",
       "    </tr>\n",
       "    <tr>\n",
       "      <th>Vegetarian</th>\n",
       "      <td>51.956522</td>\n",
       "    </tr>\n",
       "    <tr>\n",
       "      <th rowspan=\"6\" valign=\"top\">Bengali Recipes</th>\n",
       "      <th>Eggetarian</th>\n",
       "      <td>63.000000</td>\n",
       "    </tr>\n",
       "    <tr>\n",
       "      <th>High Protein Non Vegetarian</th>\n",
       "      <td>43.684211</td>\n",
       "    </tr>\n",
       "    <tr>\n",
       "      <th>High Protein Vegetarian</th>\n",
       "      <td>67.500000</td>\n",
       "    </tr>\n",
       "    <tr>\n",
       "      <th>No Onion No Garlic (Sattvic)</th>\n",
       "      <td>68.333333</td>\n",
       "    </tr>\n",
       "    <tr>\n",
       "      <th>Non Vegeterian</th>\n",
       "      <td>67.181818</td>\n",
       "    </tr>\n",
       "    <tr>\n",
       "      <th>Vegetarian</th>\n",
       "      <td>57.968750</td>\n",
       "    </tr>\n",
       "    <tr>\n",
       "      <th rowspan=\"3\" valign=\"top\">Bihari</th>\n",
       "      <th>Diabetic Friendly</th>\n",
       "      <td>151.000000</td>\n",
       "    </tr>\n",
       "    <tr>\n",
       "      <th>High Protein Vegetarian</th>\n",
       "      <td>141.666667</td>\n",
       "    </tr>\n",
       "    <tr>\n",
       "      <th>Vegetarian</th>\n",
       "      <td>99.600000</td>\n",
       "    </tr>\n",
       "    <tr>\n",
       "      <th rowspan=\"2\" valign=\"top\">British</th>\n",
       "      <th>Eggetarian</th>\n",
       "      <td>50.000000</td>\n",
       "    </tr>\n",
       "    <tr>\n",
       "      <th>Vegetarian</th>\n",
       "      <td>113.750000</td>\n",
       "    </tr>\n",
       "    <tr>\n",
       "      <th>Brunch</th>\n",
       "      <th>Vegetarian</th>\n",
       "      <td>20.000000</td>\n",
       "    </tr>\n",
       "    <tr>\n",
       "      <th>Burmese</th>\n",
       "      <th>Vegetarian</th>\n",
       "      <td>50.000000</td>\n",
       "    </tr>\n",
       "    <tr>\n",
       "      <th rowspan=\"2\" valign=\"top\">Cantonese</th>\n",
       "      <th>Non Vegeterian</th>\n",
       "      <td>45.000000</td>\n",
       "    </tr>\n",
       "    <tr>\n",
       "      <th>Vegetarian</th>\n",
       "      <td>49.166667</td>\n",
       "    </tr>\n",
       "    <tr>\n",
       "      <th rowspan=\"2\" valign=\"top\">Caribbean</th>\n",
       "      <th>High Protein Non Vegetarian</th>\n",
       "      <td>65.000000</td>\n",
       "    </tr>\n",
       "    <tr>\n",
       "      <th>Vegetarian</th>\n",
       "      <td>65.000000</td>\n",
       "    </tr>\n",
       "    <tr>\n",
       "      <th rowspan=\"4\" valign=\"top\">Chettinad</th>\n",
       "      <th>Diabetic Friendly</th>\n",
       "      <td>20.000000</td>\n",
       "    </tr>\n",
       "    <tr>\n",
       "      <th>Eggetarian</th>\n",
       "      <td>50.000000</td>\n",
       "    </tr>\n",
       "    <tr>\n",
       "      <th>Gluten Free</th>\n",
       "      <td>20.000000</td>\n",
       "    </tr>\n",
       "    <tr>\n",
       "      <th>High Protein Non Vegetarian</th>\n",
       "      <td>56.250000</td>\n",
       "    </tr>\n",
       "  </tbody>\n",
       "</table>\n",
       "</div>"
      ],
      "text/plain": [
       "                                              Total Time/Min\n",
       "Cuisine         Diet                                        \n",
       "Afghan          Vegetarian                         25.000000\n",
       "African         Eggetarian                         47.500000\n",
       "                High Protein Non Vegetarian        95.000000\n",
       "                High Protein Vegetarian            51.000000\n",
       "                Non Vegeterian                     55.000000\n",
       "                Vegetarian                         45.714286\n",
       "American        High Protein Non Vegetarian       120.000000\n",
       "                High Protein Vegetarian            35.000000\n",
       "                Non Vegeterian                     27.500000\n",
       "                Vegetarian                         91.666667\n",
       "Andhra          Diabetic Friendly                  39.285714\n",
       "                Gluten Free                       100.000000\n",
       "                High Protein Non Vegetarian        55.000000\n",
       "                High Protein Vegetarian            61.000000\n",
       "                Non Vegeterian                     42.000000\n",
       "                Vegetarian                         48.060241\n",
       "Appetizer       Eggetarian                         60.000000\n",
       "                High Protein Vegetarian           245.000000\n",
       "Arab            Vegetarian                         55.000000\n",
       "Asian           Diabetic Friendly                  25.000000\n",
       "                Eggetarian                         33.333333\n",
       "                Gluten Free                         7.000000\n",
       "                High Protein Non Vegetarian        25.000000\n",
       "                High Protein Vegetarian            45.000000\n",
       "                Non Vegeterian                     40.000000\n",
       "                Vegan                              25.000000\n",
       "                Vegetarian                         42.425000\n",
       "Assamese        Eggetarian                         37.500000\n",
       "                Gluten Free                       165.000000\n",
       "                High Protein Non Vegetarian        30.000000\n",
       "                High Protein Vegetarian            65.000000\n",
       "                Non Vegeterian                     41.250000\n",
       "                Vegetarian                         34.615385\n",
       "Awadhi          Diabetic Friendly                  35.000000\n",
       "                Eggetarian                         42.500000\n",
       "                High Protein Non Vegetarian        42.500000\n",
       "                High Protein Vegetarian            46.000000\n",
       "                Non Vegeterian                    161.666667\n",
       "                Vegetarian                         51.956522\n",
       "Bengali Recipes Eggetarian                         63.000000\n",
       "                High Protein Non Vegetarian        43.684211\n",
       "                High Protein Vegetarian            67.500000\n",
       "                No Onion No Garlic (Sattvic)       68.333333\n",
       "                Non Vegeterian                     67.181818\n",
       "                Vegetarian                         57.968750\n",
       "Bihari          Diabetic Friendly                 151.000000\n",
       "                High Protein Vegetarian           141.666667\n",
       "                Vegetarian                         99.600000\n",
       "British         Eggetarian                         50.000000\n",
       "                Vegetarian                        113.750000\n",
       "Brunch          Vegetarian                         20.000000\n",
       "Burmese         Vegetarian                         50.000000\n",
       "Cantonese       Non Vegeterian                     45.000000\n",
       "                Vegetarian                         49.166667\n",
       "Caribbean       High Protein Non Vegetarian        65.000000\n",
       "                Vegetarian                         65.000000\n",
       "Chettinad       Diabetic Friendly                  20.000000\n",
       "                Eggetarian                         50.000000\n",
       "                Gluten Free                        20.000000\n",
       "                High Protein Non Vegetarian        56.250000"
      ]
     },
     "execution_count": 44,
     "metadata": {},
     "output_type": "execute_result"
    }
   ],
   "source": [
    "grouping_cuisine= food_df[['Diet','Cuisine','Total Time/Min']]\n",
    "grouping = grouping_cuisine.groupby(['Cuisine','Diet'], as_index= True).mean()\n",
    "grouping.shape\n",
    "grouping[:60]"
   ]
  },
  {
   "cell_type": "markdown",
   "metadata": {},
   "source": [
    "### <font color=Green>Pivot Table</font>"
   ]
  },
  {
   "cell_type": "code",
   "execution_count": 55,
   "metadata": {},
   "outputs": [
    {
     "data": {
      "text/html": [
       "<div>\n",
       "<style scoped>\n",
       "    .dataframe tbody tr th:only-of-type {\n",
       "        vertical-align: middle;\n",
       "    }\n",
       "\n",
       "    .dataframe tbody tr th {\n",
       "        vertical-align: top;\n",
       "    }\n",
       "\n",
       "    .dataframe thead th {\n",
       "        text-align: right;\n",
       "    }\n",
       "</style>\n",
       "<table border=\"1\" class=\"dataframe\">\n",
       "  <thead>\n",
       "    <tr style=\"text-align: right;\">\n",
       "      <th></th>\n",
       "      <th></th>\n",
       "      <th>Cooking Time/Min</th>\n",
       "      <th>Ingredients_count</th>\n",
       "      <th>Preparation Time/Min</th>\n",
       "      <th>Recipe No</th>\n",
       "      <th>Servings</th>\n",
       "      <th>Total Time/Min</th>\n",
       "      <th>level_0</th>\n",
       "    </tr>\n",
       "    <tr>\n",
       "      <th>Diet</th>\n",
       "      <th>Course</th>\n",
       "      <th></th>\n",
       "      <th></th>\n",
       "      <th></th>\n",
       "      <th></th>\n",
       "      <th></th>\n",
       "      <th></th>\n",
       "      <th></th>\n",
       "    </tr>\n",
       "  </thead>\n",
       "  <tbody>\n",
       "    <tr>\n",
       "      <th rowspan=\"5\" valign=\"top\">Diabetic Friendly</th>\n",
       "      <th>Appetizer</th>\n",
       "      <td>15.625000</td>\n",
       "      <td>10.250000</td>\n",
       "      <td>16.250000</td>\n",
       "      <td>3620.375000</td>\n",
       "      <td>3.875000</td>\n",
       "      <td>31.875000</td>\n",
       "      <td>3619.375000</td>\n",
       "    </tr>\n",
       "    <tr>\n",
       "      <th>Dinner</th>\n",
       "      <td>33.421053</td>\n",
       "      <td>10.105263</td>\n",
       "      <td>24.210526</td>\n",
       "      <td>3514.736842</td>\n",
       "      <td>3.631579</td>\n",
       "      <td>57.631579</td>\n",
       "      <td>3513.736842</td>\n",
       "    </tr>\n",
       "    <tr>\n",
       "      <th>Indian Breakfast</th>\n",
       "      <td>26.071429</td>\n",
       "      <td>10.857143</td>\n",
       "      <td>70.000000</td>\n",
       "      <td>2926.357143</td>\n",
       "      <td>3.571429</td>\n",
       "      <td>96.071429</td>\n",
       "      <td>2925.357143</td>\n",
       "    </tr>\n",
       "    <tr>\n",
       "      <th>Lunch</th>\n",
       "      <td>25.153846</td>\n",
       "      <td>12.184615</td>\n",
       "      <td>31.769231</td>\n",
       "      <td>3167.230769</td>\n",
       "      <td>3.953846</td>\n",
       "      <td>56.923077</td>\n",
       "      <td>3166.230769</td>\n",
       "    </tr>\n",
       "    <tr>\n",
       "      <th>Main Course</th>\n",
       "      <td>26.500000</td>\n",
       "      <td>12.200000</td>\n",
       "      <td>73.000000</td>\n",
       "      <td>3222.300000</td>\n",
       "      <td>4.100000</td>\n",
       "      <td>99.500000</td>\n",
       "      <td>3221.300000</td>\n",
       "    </tr>\n",
       "    <tr>\n",
       "      <th>...</th>\n",
       "      <th>...</th>\n",
       "      <td>...</td>\n",
       "      <td>...</td>\n",
       "      <td>...</td>\n",
       "      <td>...</td>\n",
       "      <td>...</td>\n",
       "      <td>...</td>\n",
       "      <td>...</td>\n",
       "    </tr>\n",
       "    <tr>\n",
       "      <th rowspan=\"5\" valign=\"top\">Vegetarian</th>\n",
       "      <th>South Indian Breakfast</th>\n",
       "      <td>27.639752</td>\n",
       "      <td>11.130435</td>\n",
       "      <td>73.273292</td>\n",
       "      <td>3416.776398</td>\n",
       "      <td>4.478261</td>\n",
       "      <td>100.913043</td>\n",
       "      <td>3415.776398</td>\n",
       "    </tr>\n",
       "    <tr>\n",
       "      <th>Sugar Free Diet</th>\n",
       "      <td>0.000000</td>\n",
       "      <td>3.000000</td>\n",
       "      <td>15.000000</td>\n",
       "      <td>5358.000000</td>\n",
       "      <td>4.000000</td>\n",
       "      <td>15.000000</td>\n",
       "      <td>5357.000000</td>\n",
       "    </tr>\n",
       "    <tr>\n",
       "      <th>Vegan</th>\n",
       "      <td>5.000000</td>\n",
       "      <td>3.000000</td>\n",
       "      <td>5.000000</td>\n",
       "      <td>6010.000000</td>\n",
       "      <td>2.000000</td>\n",
       "      <td>10.000000</td>\n",
       "      <td>6009.000000</td>\n",
       "    </tr>\n",
       "    <tr>\n",
       "      <th>Vegetarian</th>\n",
       "      <td>18.346154</td>\n",
       "      <td>8.730769</td>\n",
       "      <td>13.692308</td>\n",
       "      <td>3265.807692</td>\n",
       "      <td>54.346154</td>\n",
       "      <td>32.038462</td>\n",
       "      <td>3264.807692</td>\n",
       "    </tr>\n",
       "    <tr>\n",
       "      <th>World Breakfast</th>\n",
       "      <td>22.117117</td>\n",
       "      <td>9.414414</td>\n",
       "      <td>22.495495</td>\n",
       "      <td>3394.792793</td>\n",
       "      <td>3.540541</td>\n",
       "      <td>44.612613</td>\n",
       "      <td>3393.792793</td>\n",
       "    </tr>\n",
       "  </tbody>\n",
       "</table>\n",
       "<p>120 rows × 7 columns</p>\n",
       "</div>"
      ],
      "text/plain": [
       "                                          Cooking Time/Min  Ingredients_count  \\\n",
       "Diet              Course                                                        \n",
       "Diabetic Friendly Appetizer                      15.625000          10.250000   \n",
       "                  Dinner                         33.421053          10.105263   \n",
       "                  Indian Breakfast               26.071429          10.857143   \n",
       "                  Lunch                          25.153846          12.184615   \n",
       "                  Main Course                    26.500000          12.200000   \n",
       "...                                                    ...                ...   \n",
       "Vegetarian        South Indian Breakfast         27.639752          11.130435   \n",
       "                  Sugar Free Diet                 0.000000           3.000000   \n",
       "                  Vegan                           5.000000           3.000000   \n",
       "                  Vegetarian                     18.346154           8.730769   \n",
       "                  World Breakfast                22.117117           9.414414   \n",
       "\n",
       "                                          Preparation Time/Min    Recipe No  \\\n",
       "Diet              Course                                                      \n",
       "Diabetic Friendly Appetizer                          16.250000  3620.375000   \n",
       "                  Dinner                             24.210526  3514.736842   \n",
       "                  Indian Breakfast                   70.000000  2926.357143   \n",
       "                  Lunch                              31.769231  3167.230769   \n",
       "                  Main Course                        73.000000  3222.300000   \n",
       "...                                                        ...          ...   \n",
       "Vegetarian        South Indian Breakfast             73.273292  3416.776398   \n",
       "                  Sugar Free Diet                    15.000000  5358.000000   \n",
       "                  Vegan                               5.000000  6010.000000   \n",
       "                  Vegetarian                         13.692308  3265.807692   \n",
       "                  World Breakfast                    22.495495  3394.792793   \n",
       "\n",
       "                                           Servings  Total Time/Min  \\\n",
       "Diet              Course                                              \n",
       "Diabetic Friendly Appetizer                3.875000       31.875000   \n",
       "                  Dinner                   3.631579       57.631579   \n",
       "                  Indian Breakfast         3.571429       96.071429   \n",
       "                  Lunch                    3.953846       56.923077   \n",
       "                  Main Course              4.100000       99.500000   \n",
       "...                                             ...             ...   \n",
       "Vegetarian        South Indian Breakfast   4.478261      100.913043   \n",
       "                  Sugar Free Diet          4.000000       15.000000   \n",
       "                  Vegan                    2.000000       10.000000   \n",
       "                  Vegetarian              54.346154       32.038462   \n",
       "                  World Breakfast          3.540541       44.612613   \n",
       "\n",
       "                                              level_0  \n",
       "Diet              Course                               \n",
       "Diabetic Friendly Appetizer               3619.375000  \n",
       "                  Dinner                  3513.736842  \n",
       "                  Indian Breakfast        2925.357143  \n",
       "                  Lunch                   3166.230769  \n",
       "                  Main Course             3221.300000  \n",
       "...                                               ...  \n",
       "Vegetarian        South Indian Breakfast  3415.776398  \n",
       "                  Sugar Free Diet         5357.000000  \n",
       "                  Vegan                   6009.000000  \n",
       "                  Vegetarian              3264.807692  \n",
       "                  World Breakfast         3393.792793  \n",
       "\n",
       "[120 rows x 7 columns]"
      ]
     },
     "execution_count": 55,
     "metadata": {},
     "output_type": "execute_result"
    }
   ],
   "source": [
    "pd.pivot_table(food_df, index =['Diet','Course'])"
   ]
  },
  {
   "cell_type": "code",
   "execution_count": 56,
   "metadata": {
    "scrolled": true
   },
   "outputs": [
    {
     "data": {
      "text/html": [
       "<div>\n",
       "<style scoped>\n",
       "    .dataframe tbody tr th:only-of-type {\n",
       "        vertical-align: middle;\n",
       "    }\n",
       "\n",
       "    .dataframe tbody tr th {\n",
       "        vertical-align: top;\n",
       "    }\n",
       "\n",
       "    .dataframe thead th {\n",
       "        text-align: right;\n",
       "    }\n",
       "</style>\n",
       "<table border=\"1\" class=\"dataframe\">\n",
       "  <thead>\n",
       "    <tr style=\"text-align: right;\">\n",
       "      <th></th>\n",
       "      <th></th>\n",
       "      <th>Cooking Time/Min</th>\n",
       "      <th>Ingredients_count</th>\n",
       "      <th>Preparation Time/Min</th>\n",
       "      <th>Recipe No</th>\n",
       "      <th>Servings</th>\n",
       "      <th>Total Time/Min</th>\n",
       "      <th>level_0</th>\n",
       "    </tr>\n",
       "    <tr>\n",
       "      <th>Cuisine</th>\n",
       "      <th>Course</th>\n",
       "      <th></th>\n",
       "      <th></th>\n",
       "      <th></th>\n",
       "      <th></th>\n",
       "      <th></th>\n",
       "      <th></th>\n",
       "      <th></th>\n",
       "    </tr>\n",
       "  </thead>\n",
       "  <tbody>\n",
       "    <tr>\n",
       "      <th>Afghan</th>\n",
       "      <th>Snack</th>\n",
       "      <td>10.000000</td>\n",
       "      <td>6.000000</td>\n",
       "      <td>15.000000</td>\n",
       "      <td>3902.0</td>\n",
       "      <td>3.000000</td>\n",
       "      <td>25.000000</td>\n",
       "      <td>3901.0</td>\n",
       "    </tr>\n",
       "    <tr>\n",
       "      <th rowspan=\"4\" valign=\"top\">African</th>\n",
       "      <th>Appetizer</th>\n",
       "      <td>37.500000</td>\n",
       "      <td>16.000000</td>\n",
       "      <td>17.500000</td>\n",
       "      <td>3429.5</td>\n",
       "      <td>3.500000</td>\n",
       "      <td>55.000000</td>\n",
       "      <td>3428.5</td>\n",
       "    </tr>\n",
       "    <tr>\n",
       "      <th>Dinner</th>\n",
       "      <td>52.142857</td>\n",
       "      <td>17.571429</td>\n",
       "      <td>12.857143</td>\n",
       "      <td>3976.0</td>\n",
       "      <td>3.714286</td>\n",
       "      <td>65.000000</td>\n",
       "      <td>3975.0</td>\n",
       "    </tr>\n",
       "    <tr>\n",
       "      <th>Main Course</th>\n",
       "      <td>29.166667</td>\n",
       "      <td>17.166667</td>\n",
       "      <td>16.666667</td>\n",
       "      <td>3197.5</td>\n",
       "      <td>3.833333</td>\n",
       "      <td>45.833333</td>\n",
       "      <td>3196.5</td>\n",
       "    </tr>\n",
       "    <tr>\n",
       "      <th>Vegetarian</th>\n",
       "      <td>20.000000</td>\n",
       "      <td>15.000000</td>\n",
       "      <td>15.000000</td>\n",
       "      <td>4429.0</td>\n",
       "      <td>150.000000</td>\n",
       "      <td>35.000000</td>\n",
       "      <td>4428.0</td>\n",
       "    </tr>\n",
       "    <tr>\n",
       "      <th>...</th>\n",
       "      <th>...</th>\n",
       "      <td>...</td>\n",
       "      <td>...</td>\n",
       "      <td>...</td>\n",
       "      <td>...</td>\n",
       "      <td>...</td>\n",
       "      <td>...</td>\n",
       "      <td>...</td>\n",
       "    </tr>\n",
       "    <tr>\n",
       "      <th rowspan=\"3\" valign=\"top\">Vietnamese</th>\n",
       "      <th>Main Course</th>\n",
       "      <td>55.000000</td>\n",
       "      <td>29.000000</td>\n",
       "      <td>10.000000</td>\n",
       "      <td>1083.0</td>\n",
       "      <td>4.000000</td>\n",
       "      <td>65.000000</td>\n",
       "      <td>1082.0</td>\n",
       "    </tr>\n",
       "    <tr>\n",
       "      <th>Side Dish</th>\n",
       "      <td>10.000000</td>\n",
       "      <td>14.000000</td>\n",
       "      <td>15.000000</td>\n",
       "      <td>1782.0</td>\n",
       "      <td>2.000000</td>\n",
       "      <td>25.000000</td>\n",
       "      <td>1781.0</td>\n",
       "    </tr>\n",
       "    <tr>\n",
       "      <th>Snack</th>\n",
       "      <td>35.000000</td>\n",
       "      <td>21.000000</td>\n",
       "      <td>10.000000</td>\n",
       "      <td>3429.0</td>\n",
       "      <td>4.000000</td>\n",
       "      <td>45.000000</td>\n",
       "      <td>3428.0</td>\n",
       "    </tr>\n",
       "    <tr>\n",
       "      <th rowspan=\"2\" valign=\"top\">World Breakfast</th>\n",
       "      <th>Sugar Free Diet</th>\n",
       "      <td>0.000000</td>\n",
       "      <td>3.000000</td>\n",
       "      <td>15.000000</td>\n",
       "      <td>5358.0</td>\n",
       "      <td>4.000000</td>\n",
       "      <td>15.000000</td>\n",
       "      <td>5357.0</td>\n",
       "    </tr>\n",
       "    <tr>\n",
       "      <th>Vegetarian</th>\n",
       "      <td>16.000000</td>\n",
       "      <td>10.000000</td>\n",
       "      <td>10.000000</td>\n",
       "      <td>2976.6</td>\n",
       "      <td>2.800000</td>\n",
       "      <td>26.000000</td>\n",
       "      <td>2975.6</td>\n",
       "    </tr>\n",
       "  </tbody>\n",
       "</table>\n",
       "<p>482 rows × 7 columns</p>\n",
       "</div>"
      ],
      "text/plain": [
       "                                 Cooking Time/Min  Ingredients_count  \\\n",
       "Cuisine         Course                                                 \n",
       "Afghan          Snack                   10.000000           6.000000   \n",
       "African         Appetizer               37.500000          16.000000   \n",
       "                Dinner                  52.142857          17.571429   \n",
       "                Main Course             29.166667          17.166667   \n",
       "                Vegetarian              20.000000          15.000000   \n",
       "...                                           ...                ...   \n",
       "Vietnamese      Main Course             55.000000          29.000000   \n",
       "                Side Dish               10.000000          14.000000   \n",
       "                Snack                   35.000000          21.000000   \n",
       "World Breakfast Sugar Free Diet          0.000000           3.000000   \n",
       "                Vegetarian              16.000000          10.000000   \n",
       "\n",
       "                                 Preparation Time/Min  Recipe No    Servings  \\\n",
       "Cuisine         Course                                                         \n",
       "Afghan          Snack                       15.000000     3902.0    3.000000   \n",
       "African         Appetizer                   17.500000     3429.5    3.500000   \n",
       "                Dinner                      12.857143     3976.0    3.714286   \n",
       "                Main Course                 16.666667     3197.5    3.833333   \n",
       "                Vegetarian                  15.000000     4429.0  150.000000   \n",
       "...                                               ...        ...         ...   \n",
       "Vietnamese      Main Course                 10.000000     1083.0    4.000000   \n",
       "                Side Dish                   15.000000     1782.0    2.000000   \n",
       "                Snack                       10.000000     3429.0    4.000000   \n",
       "World Breakfast Sugar Free Diet             15.000000     5358.0    4.000000   \n",
       "                Vegetarian                  10.000000     2976.6    2.800000   \n",
       "\n",
       "                                 Total Time/Min  level_0  \n",
       "Cuisine         Course                                    \n",
       "Afghan          Snack                 25.000000   3901.0  \n",
       "African         Appetizer             55.000000   3428.5  \n",
       "                Dinner                65.000000   3975.0  \n",
       "                Main Course           45.833333   3196.5  \n",
       "                Vegetarian            35.000000   4428.0  \n",
       "...                                         ...      ...  \n",
       "Vietnamese      Main Course           65.000000   1082.0  \n",
       "                Side Dish             25.000000   1781.0  \n",
       "                Snack                 45.000000   3428.0  \n",
       "World Breakfast Sugar Free Diet       15.000000   5357.0  \n",
       "                Vegetarian            26.000000   2975.6  \n",
       "\n",
       "[482 rows x 7 columns]"
      ]
     },
     "execution_count": 56,
     "metadata": {},
     "output_type": "execute_result"
    }
   ],
   "source": [
    "pd.pivot_table(food_df, index =['Cuisine','Course'])"
   ]
  },
  {
   "cell_type": "code",
   "execution_count": 45,
   "metadata": {
    "scrolled": true
   },
   "outputs": [
    {
     "data": {
      "text/html": [
       "<div>\n",
       "<style scoped>\n",
       "    .dataframe tbody tr th:only-of-type {\n",
       "        vertical-align: middle;\n",
       "    }\n",
       "\n",
       "    .dataframe tbody tr th {\n",
       "        vertical-align: top;\n",
       "    }\n",
       "\n",
       "    .dataframe thead tr th {\n",
       "        text-align: left;\n",
       "    }\n",
       "\n",
       "    .dataframe thead tr:last-of-type th {\n",
       "        text-align: right;\n",
       "    }\n",
       "</style>\n",
       "<table border=\"1\" class=\"dataframe\">\n",
       "  <thead>\n",
       "    <tr>\n",
       "      <th></th>\n",
       "      <th colspan=\"10\" halign=\"left\">Cooking Time/Min</th>\n",
       "      <th>...</th>\n",
       "      <th colspan=\"10\" halign=\"left\">level_0</th>\n",
       "    </tr>\n",
       "    <tr>\n",
       "      <th>Course</th>\n",
       "      <th>Appetizer</th>\n",
       "      <th>Brunch</th>\n",
       "      <th>Dessert</th>\n",
       "      <th>Dinner</th>\n",
       "      <th>Eggetarian</th>\n",
       "      <th>High Protein Vegetarian</th>\n",
       "      <th>Indian Breakfast</th>\n",
       "      <th>Lunch</th>\n",
       "      <th>Main Course</th>\n",
       "      <th>No Onion No Garlic (Sattvic)</th>\n",
       "      <th>...</th>\n",
       "      <th>Non Vegeterian</th>\n",
       "      <th>North Indian Breakfast</th>\n",
       "      <th>One Pot Dish</th>\n",
       "      <th>Side Dish</th>\n",
       "      <th>Snack</th>\n",
       "      <th>South Indian Breakfast</th>\n",
       "      <th>Sugar Free Diet</th>\n",
       "      <th>Vegan</th>\n",
       "      <th>Vegetarian</th>\n",
       "      <th>World Breakfast</th>\n",
       "    </tr>\n",
       "    <tr>\n",
       "      <th>Diet</th>\n",
       "      <th></th>\n",
       "      <th></th>\n",
       "      <th></th>\n",
       "      <th></th>\n",
       "      <th></th>\n",
       "      <th></th>\n",
       "      <th></th>\n",
       "      <th></th>\n",
       "      <th></th>\n",
       "      <th></th>\n",
       "      <th></th>\n",
       "      <th></th>\n",
       "      <th></th>\n",
       "      <th></th>\n",
       "      <th></th>\n",
       "      <th></th>\n",
       "      <th></th>\n",
       "      <th></th>\n",
       "      <th></th>\n",
       "      <th></th>\n",
       "      <th></th>\n",
       "    </tr>\n",
       "  </thead>\n",
       "  <tbody>\n",
       "    <tr>\n",
       "      <th>Diabetic Friendly</th>\n",
       "      <td>15.625000</td>\n",
       "      <td>0.0</td>\n",
       "      <td>0.000000</td>\n",
       "      <td>33.421053</td>\n",
       "      <td>0.0</td>\n",
       "      <td>0.000000</td>\n",
       "      <td>26.071429</td>\n",
       "      <td>25.153846</td>\n",
       "      <td>26.500000</td>\n",
       "      <td>0.0</td>\n",
       "      <td>...</td>\n",
       "      <td>0.0</td>\n",
       "      <td>2887.818182</td>\n",
       "      <td>4588.666667</td>\n",
       "      <td>3090.690909</td>\n",
       "      <td>4259.090909</td>\n",
       "      <td>3490.200000</td>\n",
       "      <td>0.0</td>\n",
       "      <td>0.0</td>\n",
       "      <td>4123.500000</td>\n",
       "      <td>2770.714286</td>\n",
       "    </tr>\n",
       "    <tr>\n",
       "      <th>Eggetarian</th>\n",
       "      <td>24.285714</td>\n",
       "      <td>25.0</td>\n",
       "      <td>63.634146</td>\n",
       "      <td>32.037037</td>\n",
       "      <td>0.0</td>\n",
       "      <td>0.000000</td>\n",
       "      <td>16.875000</td>\n",
       "      <td>36.000000</td>\n",
       "      <td>30.714286</td>\n",
       "      <td>0.0</td>\n",
       "      <td>...</td>\n",
       "      <td>0.0</td>\n",
       "      <td>2834.142857</td>\n",
       "      <td>0.000000</td>\n",
       "      <td>3236.090909</td>\n",
       "      <td>2852.406250</td>\n",
       "      <td>3008.166667</td>\n",
       "      <td>0.0</td>\n",
       "      <td>3213.0</td>\n",
       "      <td>5045.000000</td>\n",
       "      <td>2938.750000</td>\n",
       "    </tr>\n",
       "    <tr>\n",
       "      <th>Gluten Free</th>\n",
       "      <td>16.666667</td>\n",
       "      <td>0.0</td>\n",
       "      <td>30.000000</td>\n",
       "      <td>30.000000</td>\n",
       "      <td>0.0</td>\n",
       "      <td>0.000000</td>\n",
       "      <td>26.666667</td>\n",
       "      <td>22.857143</td>\n",
       "      <td>0.000000</td>\n",
       "      <td>0.0</td>\n",
       "      <td>...</td>\n",
       "      <td>0.0</td>\n",
       "      <td>2912.000000</td>\n",
       "      <td>0.000000</td>\n",
       "      <td>5049.000000</td>\n",
       "      <td>4078.250000</td>\n",
       "      <td>3196.375000</td>\n",
       "      <td>0.0</td>\n",
       "      <td>0.0</td>\n",
       "      <td>4803.000000</td>\n",
       "      <td>2952.857143</td>\n",
       "    </tr>\n",
       "    <tr>\n",
       "      <th>High Protein Non Vegetarian</th>\n",
       "      <td>28.750000</td>\n",
       "      <td>0.0</td>\n",
       "      <td>45.000000</td>\n",
       "      <td>29.056604</td>\n",
       "      <td>0.0</td>\n",
       "      <td>0.000000</td>\n",
       "      <td>10.000000</td>\n",
       "      <td>35.869565</td>\n",
       "      <td>26.666667</td>\n",
       "      <td>0.0</td>\n",
       "      <td>...</td>\n",
       "      <td>0.0</td>\n",
       "      <td>0.000000</td>\n",
       "      <td>3475.666667</td>\n",
       "      <td>3630.695652</td>\n",
       "      <td>2601.125000</td>\n",
       "      <td>0.000000</td>\n",
       "      <td>0.0</td>\n",
       "      <td>0.0</td>\n",
       "      <td>1467.750000</td>\n",
       "      <td>2841.500000</td>\n",
       "    </tr>\n",
       "    <tr>\n",
       "      <th>High Protein Vegetarian</th>\n",
       "      <td>27.063830</td>\n",
       "      <td>25.0</td>\n",
       "      <td>35.000000</td>\n",
       "      <td>33.263158</td>\n",
       "      <td>0.0</td>\n",
       "      <td>28.333333</td>\n",
       "      <td>26.250000</td>\n",
       "      <td>30.854922</td>\n",
       "      <td>30.000000</td>\n",
       "      <td>0.0</td>\n",
       "      <td>...</td>\n",
       "      <td>0.0</td>\n",
       "      <td>3148.526316</td>\n",
       "      <td>2820.000000</td>\n",
       "      <td>3107.870588</td>\n",
       "      <td>3121.790323</td>\n",
       "      <td>3786.939394</td>\n",
       "      <td>0.0</td>\n",
       "      <td>4552.0</td>\n",
       "      <td>3444.600000</td>\n",
       "      <td>2703.250000</td>\n",
       "    </tr>\n",
       "    <tr>\n",
       "      <th>No Onion No Garlic (Sattvic)</th>\n",
       "      <td>26.250000</td>\n",
       "      <td>0.0</td>\n",
       "      <td>30.000000</td>\n",
       "      <td>32.500000</td>\n",
       "      <td>0.0</td>\n",
       "      <td>0.000000</td>\n",
       "      <td>0.000000</td>\n",
       "      <td>23.928571</td>\n",
       "      <td>24.285714</td>\n",
       "      <td>0.0</td>\n",
       "      <td>...</td>\n",
       "      <td>0.0</td>\n",
       "      <td>3609.250000</td>\n",
       "      <td>0.000000</td>\n",
       "      <td>2954.173913</td>\n",
       "      <td>2698.500000</td>\n",
       "      <td>0.000000</td>\n",
       "      <td>0.0</td>\n",
       "      <td>0.0</td>\n",
       "      <td>3969.000000</td>\n",
       "      <td>2943.500000</td>\n",
       "    </tr>\n",
       "    <tr>\n",
       "      <th>Non Vegeterian</th>\n",
       "      <td>33.062500</td>\n",
       "      <td>0.0</td>\n",
       "      <td>59.166667</td>\n",
       "      <td>43.082192</td>\n",
       "      <td>0.0</td>\n",
       "      <td>0.000000</td>\n",
       "      <td>0.000000</td>\n",
       "      <td>41.583333</td>\n",
       "      <td>39.978723</td>\n",
       "      <td>0.0</td>\n",
       "      <td>...</td>\n",
       "      <td>0.0</td>\n",
       "      <td>3251.000000</td>\n",
       "      <td>3030.000000</td>\n",
       "      <td>3155.394737</td>\n",
       "      <td>2255.750000</td>\n",
       "      <td>0.000000</td>\n",
       "      <td>0.0</td>\n",
       "      <td>0.0</td>\n",
       "      <td>2716.500000</td>\n",
       "      <td>2504.500000</td>\n",
       "    </tr>\n",
       "    <tr>\n",
       "      <th>Sugar Free Diet</th>\n",
       "      <td>5.000000</td>\n",
       "      <td>0.0</td>\n",
       "      <td>25.000000</td>\n",
       "      <td>0.000000</td>\n",
       "      <td>0.0</td>\n",
       "      <td>0.000000</td>\n",
       "      <td>0.000000</td>\n",
       "      <td>0.000000</td>\n",
       "      <td>0.000000</td>\n",
       "      <td>0.0</td>\n",
       "      <td>...</td>\n",
       "      <td>0.0</td>\n",
       "      <td>0.000000</td>\n",
       "      <td>0.000000</td>\n",
       "      <td>0.000000</td>\n",
       "      <td>4143.666667</td>\n",
       "      <td>0.000000</td>\n",
       "      <td>0.0</td>\n",
       "      <td>0.0</td>\n",
       "      <td>0.000000</td>\n",
       "      <td>2972.600000</td>\n",
       "    </tr>\n",
       "    <tr>\n",
       "      <th>Vegan</th>\n",
       "      <td>9.285714</td>\n",
       "      <td>0.0</td>\n",
       "      <td>161.000000</td>\n",
       "      <td>31.250000</td>\n",
       "      <td>0.0</td>\n",
       "      <td>0.000000</td>\n",
       "      <td>0.000000</td>\n",
       "      <td>27.727273</td>\n",
       "      <td>38.333333</td>\n",
       "      <td>0.0</td>\n",
       "      <td>...</td>\n",
       "      <td>0.0</td>\n",
       "      <td>2488.333333</td>\n",
       "      <td>2583.000000</td>\n",
       "      <td>3334.000000</td>\n",
       "      <td>2832.200000</td>\n",
       "      <td>5854.000000</td>\n",
       "      <td>0.0</td>\n",
       "      <td>0.0</td>\n",
       "      <td>0.000000</td>\n",
       "      <td>2320.500000</td>\n",
       "    </tr>\n",
       "    <tr>\n",
       "      <th>Vegetarian</th>\n",
       "      <td>24.702186</td>\n",
       "      <td>22.5</td>\n",
       "      <td>51.905588</td>\n",
       "      <td>33.566038</td>\n",
       "      <td>10.0</td>\n",
       "      <td>25.000000</td>\n",
       "      <td>23.280702</td>\n",
       "      <td>30.118726</td>\n",
       "      <td>31.856322</td>\n",
       "      <td>20.0</td>\n",
       "      <td>...</td>\n",
       "      <td>1204.0</td>\n",
       "      <td>2869.051724</td>\n",
       "      <td>2255.000000</td>\n",
       "      <td>3124.235385</td>\n",
       "      <td>3114.922525</td>\n",
       "      <td>3415.776398</td>\n",
       "      <td>5357.0</td>\n",
       "      <td>6009.0</td>\n",
       "      <td>3264.807692</td>\n",
       "      <td>3393.792793</td>\n",
       "    </tr>\n",
       "  </tbody>\n",
       "</table>\n",
       "<p>10 rows × 140 columns</p>\n",
       "</div>"
      ],
      "text/plain": [
       "                             Cooking Time/Min                                \\\n",
       "Course                              Appetizer Brunch     Dessert     Dinner   \n",
       "Diet                                                                          \n",
       "Diabetic Friendly                   15.625000    0.0    0.000000  33.421053   \n",
       "Eggetarian                          24.285714   25.0   63.634146  32.037037   \n",
       "Gluten Free                         16.666667    0.0   30.000000  30.000000   \n",
       "High Protein Non Vegetarian         28.750000    0.0   45.000000  29.056604   \n",
       "High Protein Vegetarian             27.063830   25.0   35.000000  33.263158   \n",
       "No Onion No Garlic (Sattvic)        26.250000    0.0   30.000000  32.500000   \n",
       "Non Vegeterian                      33.062500    0.0   59.166667  43.082192   \n",
       "Sugar Free Diet                      5.000000    0.0   25.000000   0.000000   \n",
       "Vegan                                9.285714    0.0  161.000000  31.250000   \n",
       "Vegetarian                          24.702186   22.5   51.905588  33.566038   \n",
       "\n",
       "                                                                 \\\n",
       "Course                       Eggetarian High Protein Vegetarian   \n",
       "Diet                                                              \n",
       "Diabetic Friendly                   0.0                0.000000   \n",
       "Eggetarian                          0.0                0.000000   \n",
       "Gluten Free                         0.0                0.000000   \n",
       "High Protein Non Vegetarian         0.0                0.000000   \n",
       "High Protein Vegetarian             0.0               28.333333   \n",
       "No Onion No Garlic (Sattvic)        0.0                0.000000   \n",
       "Non Vegeterian                      0.0                0.000000   \n",
       "Sugar Free Diet                     0.0                0.000000   \n",
       "Vegan                               0.0                0.000000   \n",
       "Vegetarian                         10.0               25.000000   \n",
       "\n",
       "                                                                      \\\n",
       "Course                       Indian Breakfast      Lunch Main Course   \n",
       "Diet                                                                   \n",
       "Diabetic Friendly                   26.071429  25.153846   26.500000   \n",
       "Eggetarian                          16.875000  36.000000   30.714286   \n",
       "Gluten Free                         26.666667  22.857143    0.000000   \n",
       "High Protein Non Vegetarian         10.000000  35.869565   26.666667   \n",
       "High Protein Vegetarian             26.250000  30.854922   30.000000   \n",
       "No Onion No Garlic (Sattvic)         0.000000  23.928571   24.285714   \n",
       "Non Vegeterian                       0.000000  41.583333   39.978723   \n",
       "Sugar Free Diet                      0.000000   0.000000    0.000000   \n",
       "Vegan                                0.000000  27.727273   38.333333   \n",
       "Vegetarian                          23.280702  30.118726   31.856322   \n",
       "\n",
       "                                                           ...        level_0  \\\n",
       "Course                       No Onion No Garlic (Sattvic)  ... Non Vegeterian   \n",
       "Diet                                                       ...                  \n",
       "Diabetic Friendly                                     0.0  ...            0.0   \n",
       "Eggetarian                                            0.0  ...            0.0   \n",
       "Gluten Free                                           0.0  ...            0.0   \n",
       "High Protein Non Vegetarian                           0.0  ...            0.0   \n",
       "High Protein Vegetarian                               0.0  ...            0.0   \n",
       "No Onion No Garlic (Sattvic)                          0.0  ...            0.0   \n",
       "Non Vegeterian                                        0.0  ...            0.0   \n",
       "Sugar Free Diet                                       0.0  ...            0.0   \n",
       "Vegan                                                 0.0  ...            0.0   \n",
       "Vegetarian                                           20.0  ...         1204.0   \n",
       "\n",
       "                                                                               \\\n",
       "Course                       North Indian Breakfast One Pot Dish    Side Dish   \n",
       "Diet                                                                            \n",
       "Diabetic Friendly                       2887.818182  4588.666667  3090.690909   \n",
       "Eggetarian                              2834.142857     0.000000  3236.090909   \n",
       "Gluten Free                             2912.000000     0.000000  5049.000000   \n",
       "High Protein Non Vegetarian                0.000000  3475.666667  3630.695652   \n",
       "High Protein Vegetarian                 3148.526316  2820.000000  3107.870588   \n",
       "No Onion No Garlic (Sattvic)            3609.250000     0.000000  2954.173913   \n",
       "Non Vegeterian                          3251.000000  3030.000000  3155.394737   \n",
       "Sugar Free Diet                            0.000000     0.000000     0.000000   \n",
       "Vegan                                   2488.333333  2583.000000  3334.000000   \n",
       "Vegetarian                              2869.051724  2255.000000  3124.235385   \n",
       "\n",
       "                                                                  \\\n",
       "Course                              Snack South Indian Breakfast   \n",
       "Diet                                                               \n",
       "Diabetic Friendly             4259.090909            3490.200000   \n",
       "Eggetarian                    2852.406250            3008.166667   \n",
       "Gluten Free                   4078.250000            3196.375000   \n",
       "High Protein Non Vegetarian   2601.125000               0.000000   \n",
       "High Protein Vegetarian       3121.790323            3786.939394   \n",
       "No Onion No Garlic (Sattvic)  2698.500000               0.000000   \n",
       "Non Vegeterian                2255.750000               0.000000   \n",
       "Sugar Free Diet               4143.666667               0.000000   \n",
       "Vegan                         2832.200000            5854.000000   \n",
       "Vegetarian                    3114.922525            3415.776398   \n",
       "\n",
       "                                                                   \\\n",
       "Course                       Sugar Free Diet   Vegan   Vegetarian   \n",
       "Diet                                                                \n",
       "Diabetic Friendly                        0.0     0.0  4123.500000   \n",
       "Eggetarian                               0.0  3213.0  5045.000000   \n",
       "Gluten Free                              0.0     0.0  4803.000000   \n",
       "High Protein Non Vegetarian              0.0     0.0  1467.750000   \n",
       "High Protein Vegetarian                  0.0  4552.0  3444.600000   \n",
       "No Onion No Garlic (Sattvic)             0.0     0.0  3969.000000   \n",
       "Non Vegeterian                           0.0     0.0  2716.500000   \n",
       "Sugar Free Diet                          0.0     0.0     0.000000   \n",
       "Vegan                                    0.0     0.0     0.000000   \n",
       "Vegetarian                            5357.0  6009.0  3264.807692   \n",
       "\n",
       "                                              \n",
       "Course                       World Breakfast  \n",
       "Diet                                          \n",
       "Diabetic Friendly                2770.714286  \n",
       "Eggetarian                       2938.750000  \n",
       "Gluten Free                      2952.857143  \n",
       "High Protein Non Vegetarian      2841.500000  \n",
       "High Protein Vegetarian          2703.250000  \n",
       "No Onion No Garlic (Sattvic)     2943.500000  \n",
       "Non Vegeterian                   2504.500000  \n",
       "Sugar Free Diet                  2972.600000  \n",
       "Vegan                            2320.500000  \n",
       "Vegetarian                       3393.792793  \n",
       "\n",
       "[10 rows x 140 columns]"
      ]
     },
     "execution_count": 45,
     "metadata": {},
     "output_type": "execute_result"
    }
   ],
   "source": [
    "grouped_pivot=pd.pivot_table(food_df, index =['Diet'],columns='Course')\n",
    "grouped_pivot = grouped_pivot.fillna(0) #fill missing Nan values with 0\n",
    "grouped_pivot"
   ]
  },
  {
   "cell_type": "markdown",
   "metadata": {},
   "source": [
    "##   <font color=blue>Assignment question: Say a vegetarian user wants some breakfast recipes to try, how will you filter this data to give a list</font>"
   ]
  },
  {
   "cell_type": "code",
   "execution_count": 51,
   "metadata": {},
   "outputs": [
    {
     "data": {
      "text/html": [
       "<div>\n",
       "<style scoped>\n",
       "    .dataframe tbody tr th:only-of-type {\n",
       "        vertical-align: middle;\n",
       "    }\n",
       "\n",
       "    .dataframe tbody tr th {\n",
       "        vertical-align: top;\n",
       "    }\n",
       "\n",
       "    .dataframe thead th {\n",
       "        text-align: right;\n",
       "    }\n",
       "</style>\n",
       "<table border=\"1\" class=\"dataframe\">\n",
       "  <thead>\n",
       "    <tr style=\"text-align: right;\">\n",
       "      <th></th>\n",
       "      <th>Recipe Name</th>\n",
       "      <th>Total Time</th>\n",
       "      <th>Course</th>\n",
       "      <th>Diet</th>\n",
       "    </tr>\n",
       "  </thead>\n",
       "  <tbody>\n",
       "    <tr>\n",
       "      <th>3381</th>\n",
       "      <td>Maharashtrian Vegetable Amboli Recipe (Savory ...</td>\n",
       "      <td>06:20</td>\n",
       "      <td>Indian Breakfast</td>\n",
       "      <td>Vegetarian</td>\n",
       "    </tr>\n",
       "    <tr>\n",
       "      <th>2194</th>\n",
       "      <td>Bottle Gourd &amp; Mint Vegetable Juice Recipe - L...</td>\n",
       "      <td>00:15</td>\n",
       "      <td>Indian Breakfast</td>\n",
       "      <td>Vegetarian</td>\n",
       "    </tr>\n",
       "    <tr>\n",
       "      <th>2083</th>\n",
       "      <td>Khichdi Roti रेसिपी - खिचड़ी रोटी (Recipe In Hi...</td>\n",
       "      <td>00:15</td>\n",
       "      <td>Indian Breakfast</td>\n",
       "      <td>Vegetarian</td>\n",
       "    </tr>\n",
       "    <tr>\n",
       "      <th>2019</th>\n",
       "      <td>Sweet Potato Flatbread Recipe - Sweet Potato C...</td>\n",
       "      <td>00:40</td>\n",
       "      <td>Indian Breakfast</td>\n",
       "      <td>Vegetarian</td>\n",
       "    </tr>\n",
       "    <tr>\n",
       "      <th>1886</th>\n",
       "      <td>Aloo Poha Recipe - Potato Poha</td>\n",
       "      <td>00:50</td>\n",
       "      <td>Indian Breakfast</td>\n",
       "      <td>Vegetarian</td>\n",
       "    </tr>\n",
       "    <tr>\n",
       "      <th>...</th>\n",
       "      <td>...</td>\n",
       "      <td>...</td>\n",
       "      <td>...</td>\n",
       "      <td>...</td>\n",
       "    </tr>\n",
       "    <tr>\n",
       "      <th>4770</th>\n",
       "      <td>Mango Musk Melon Chia Seeds Pudding Recipe</td>\n",
       "      <td>00:25</td>\n",
       "      <td>World Breakfast</td>\n",
       "      <td>Vegetarian</td>\n",
       "    </tr>\n",
       "    <tr>\n",
       "      <th>4786</th>\n",
       "      <td>Apple Vanilla Whole Wheat Pancakes Recipe</td>\n",
       "      <td>00:35</td>\n",
       "      <td>World Breakfast</td>\n",
       "      <td>Vegetarian</td>\n",
       "    </tr>\n",
       "    <tr>\n",
       "      <th>4787</th>\n",
       "      <td>Ice-Apple And Plum Rose Juice Recipe</td>\n",
       "      <td>00:20</td>\n",
       "      <td>World Breakfast</td>\n",
       "      <td>Vegetarian</td>\n",
       "    </tr>\n",
       "    <tr>\n",
       "      <th>1480</th>\n",
       "      <td>Oat Banana Pancakes Recipe</td>\n",
       "      <td>00:35</td>\n",
       "      <td>World Breakfast</td>\n",
       "      <td>Vegetarian</td>\n",
       "    </tr>\n",
       "    <tr>\n",
       "      <th>6236</th>\n",
       "      <td>Pancakes Drizzled With Chocolate Sauce Served ...</td>\n",
       "      <td>00:50</td>\n",
       "      <td>World Breakfast</td>\n",
       "      <td>Vegetarian</td>\n",
       "    </tr>\n",
       "  </tbody>\n",
       "</table>\n",
       "<p>387 rows × 4 columns</p>\n",
       "</div>"
      ],
      "text/plain": [
       "                                            Recipe Name Total Time  \\\n",
       "3381  Maharashtrian Vegetable Amboli Recipe (Savory ...      06:20   \n",
       "2194  Bottle Gourd & Mint Vegetable Juice Recipe - L...      00:15   \n",
       "2083  Khichdi Roti रेसिपी - खिचड़ी रोटी (Recipe In Hi...      00:15   \n",
       "2019  Sweet Potato Flatbread Recipe - Sweet Potato C...      00:40   \n",
       "1886                     Aloo Poha Recipe - Potato Poha      00:50   \n",
       "...                                                 ...        ...   \n",
       "4770         Mango Musk Melon Chia Seeds Pudding Recipe      00:25   \n",
       "4786          Apple Vanilla Whole Wheat Pancakes Recipe      00:35   \n",
       "4787               Ice-Apple And Plum Rose Juice Recipe      00:20   \n",
       "1480                         Oat Banana Pancakes Recipe      00:35   \n",
       "6236  Pancakes Drizzled With Chocolate Sauce Served ...      00:50   \n",
       "\n",
       "                Course        Diet  \n",
       "3381  Indian Breakfast  Vegetarian  \n",
       "2194  Indian Breakfast  Vegetarian  \n",
       "2083  Indian Breakfast  Vegetarian  \n",
       "2019  Indian Breakfast  Vegetarian  \n",
       "1886  Indian Breakfast  Vegetarian  \n",
       "...                ...         ...  \n",
       "4770   World Breakfast  Vegetarian  \n",
       "4786   World Breakfast  Vegetarian  \n",
       "4787   World Breakfast  Vegetarian  \n",
       "1480   World Breakfast  Vegetarian  \n",
       "6236   World Breakfast  Vegetarian  \n",
       "\n",
       "[387 rows x 4 columns]"
      ]
     },
     "execution_count": 51,
     "metadata": {},
     "output_type": "execute_result"
    }
   ],
   "source": [
    "#newdf = food_df[(food_df.Diet == \"Vegetarian\") & (food_df.Course == \"Dinner\")]\n",
    "#newdf[['Recipe Name','Total Time','Course','Diet']]\n",
    "\n",
    "#The breakfast is subdivided into many categories, say indian breakfast north indian breakfast and world breakfast.\n",
    "newdf = food_df[(food_df.Diet==\"Vegetarian\") & (food_df['Course'].str.endswith(\"Breakfast\"))]\n",
    "newdf[['Recipe Name','Total Time','Course','Diet']].sort_values(by=['Course'])"
   ]
  },
  {
   "cell_type": "code",
   "execution_count": 66,
   "metadata": {},
   "outputs": [
    {
     "name": "stdout",
     "output_type": "stream",
     "text": [
      "Diabetic Friendly Lunch Count : (65, 15)\n"
     ]
    }
   ],
   "source": [
    "lunch = food_df[(food_df.Diet == \"Diabetic Friendly\") & (food_df.Course == \"Lunch\")]\n",
    "lunch[['Recipe Name','Total Time','Course','Diet']]\n",
    "print(\"Diabetic Friendly Lunch Count :\", lunch.shape)\n"
   ]
  },
  {
   "cell_type": "markdown",
   "metadata": {},
   "source": [
    "### Questions:\n",
    "1. Is it right way of filtering datas using boolean operation and or equals? If not hints pls.\n",
    "2. when I check for recipes less than 30 min, I see recipes with 0 total time.(It doesnt make sense?!)Say we have coffee recipe with instant powder which takes 4 mins totally .But there are recipes with zero total time, do we have to fill with avg total time? \n",
    "* Time is dependant variable , Categorical variables are independent variable."
   ]
  },
  {
   "cell_type": "code",
   "execution_count": null,
   "metadata": {},
   "outputs": [],
   "source": []
  }
 ],
 "metadata": {
  "kernelspec": {
   "display_name": "Python 3",
   "language": "python",
   "name": "python3"
  },
  "language_info": {
   "codemirror_mode": {
    "name": "ipython",
    "version": 3
   },
   "file_extension": ".py",
   "mimetype": "text/x-python",
   "name": "python",
   "nbconvert_exporter": "python",
   "pygments_lexer": "ipython3",
   "version": "3.8.5"
  }
 },
 "nbformat": 4,
 "nbformat_minor": 4
}
