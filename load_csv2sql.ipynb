{
 "cells": [
  {
   "cell_type": "code",
   "execution_count": 1,
   "metadata": {},
   "outputs": [
    {
     "name": "stdout",
     "output_type": "stream",
     "text": [
      "Collecting package metadata (current_repodata.json): done\n",
      "Solving environment: done\n",
      "\n",
      "# All requested packages already installed.\n",
      "\n"
     ]
    }
   ],
   "source": [
    "# install missing packages\n",
    "!conda install -y -c bioconda mysqlclient\n"
   ]
  },
  {
   "cell_type": "code",
   "execution_count": 11,
   "metadata": {},
   "outputs": [
    {
     "name": "stdout",
     "output_type": "stream",
     "text": [
      "Enter your SQL password········\n"
     ]
    }
   ],
   "source": [
    "# import libraries\n",
    "import pandas as pd\n",
    "from sqlalchemy import create_engine\n",
    "from getpass import getpass\n",
    "\n",
    "# define user parameters\n",
    "db_name = 'test_db'\n",
    "table_name = 'test_table'\n",
    "server = 'localhost'\n",
    "port = '3306'\n",
    "user = 'root'\n",
    "infile = r'test.csv'\n",
    "db = db_name\n",
    "db_tbl_name = table_name\n",
    "\n",
    "# get password for SQL\n",
    "pw = getpass('Enter your SQL password')\n",
    "\n",
    "def csv_to_df(infile, headers = []):\n",
    "    '''\n",
    "    Load a csv file into a dataframe; if csv does not have headers, use the headers arg to create a list of headers; rename unnamed columns to conform to mysql column requirements\n",
    "    '''\n",
    "    if len(headers) == 0:\n",
    "        df = pd.read_csv(infile)\n",
    "    else:\n",
    "        df = pd.read_csv(infile, header = None)\n",
    "        df.columns = headers\n",
    "    for r in range(10):\n",
    "        try:\n",
    "            df.rename( columns={'Unnamed: {0}'.format(r):'Unnamed{0}'.format(r)},    inplace=True )\n",
    "        except:\n",
    "            pass\n",
    "    return df\n",
    "\n",
    "\n",
    "def dtype_mapping():\n",
    "    '''\n",
    "    Create a mapping of df dtypes to mysql data types (not perfect, but close enough)\n",
    "    '''\n",
    "    return {'object' : 'TEXT',\n",
    "        'int64' : 'INT',\n",
    "        'float64' : 'FLOAT',\n",
    "        'datetime64' : 'DATETIME',\n",
    "        'bool' : 'TINYINT',\n",
    "        'category' : 'TEXT',\n",
    "        'timedelta[ns]' : 'TEXT'}\n",
    "\n",
    "def mysql_engine(user = user, password = pw, host = server, port = port, database = db_name):\n",
    "    '''\n",
    "    Create a sqlalchemy engine\n",
    "    '''\n",
    "    engine = create_engine(\"mysql://{0}:{1}@{2}:{3}/{4}?charset=utf8\".format(user, password, host, port, database))\n",
    "    return engine\n",
    "\n",
    "\n",
    "def mysql_conn(engine):\n",
    "    '''\n",
    "    Create a mysql connection from sqlalchemy engine\n",
    "    '''\n",
    "    conn = engine.raw_connection()\n",
    "    return conn\n",
    "\n",
    "def gen_tbl_cols_sql(df):\n",
    "    '''\n",
    "    Create sql input for table names and types\n",
    "    '''\n",
    "    dmap = dtype_mapping()\n",
    "    sql = \"pi_db_uid INT AUTO_INCREMENT PRIMARY KEY\"\n",
    "    \n",
    "    # remove space in col names and replace / with _\n",
    "    oldcolnames = list(df.columns)\n",
    "    newcolnames = [\"\".join(k.split(' ')) for k in oldcolnames]\n",
    "    newcolnames = [k.replace('/', '_') for k in newcolnames]\n",
    "    col_rename_dict = {i:j for i,j in zip(oldcolnames,newcolnames)}\n",
    "    df.rename(columns=col_rename_dict, inplace=True)\n",
    "    # replace empty names\n",
    "    df1 = df.rename(columns = {\"\" : \"nocolname\"})\n",
    "    \n",
    "    hdrs = df1.dtypes.index\n",
    "    hdrs_list = [(hdr, str(df1[hdr].dtype)) for hdr in hdrs]\n",
    "    for i, hl in enumerate(hdrs_list):\n",
    "        sql += \" ,{0} {1}\".format(hl[0], dmap[hl[1]])\n",
    "    return sql\n",
    "\n",
    "\n",
    "def create_mysql_tbl_schema(df, conn, db, tbl_name):\n",
    "    '''\n",
    "    Create a mysql table from a df\n",
    "    '''\n",
    "    tbl_cols_sql = gen_tbl_cols_sql(df)\n",
    "    sql = \"USE {0}; CREATE TABLE IF NOT EXISTS {1} ({2})\".format(db, tbl_name, tbl_cols_sql)\n",
    "    cur = conn.cursor()\n",
    "    cur.execute(sql)\n",
    "    cur.close()\n",
    "    conn.commit()\n",
    "\n",
    "\n",
    "def df_to_mysql(df, engine, tbl_name, if_exists_condition):\n",
    "    '''\n",
    "    Write df data to newly create mysql table\n",
    "    '''\n",
    "    df.to_sql(tbl_name, engine, if_exists=if_exists_condition)\n"
   ]
  },
  {
   "cell_type": "code",
   "execution_count": 10,
   "metadata": {},
   "outputs": [],
   "source": [
    "# main code\n",
    "\n",
    "# load data\n",
    "df = csv_to_df(infile)\n",
    "\n",
    "# create schema and table\n",
    "create_mysql_tbl_schema(df, mysql_conn(mysql_engine()), db, db_tbl_name)\n",
    "\n",
    "# write pandas DF to SQL table\n",
    "df_to_mysql(df, mysql_engine(), db_tbl_name, if_exists_condition = 'replace') # replace or append\n"
   ]
  },
  {
   "cell_type": "code",
   "execution_count": null,
   "metadata": {},
   "outputs": [],
   "source": []
  }
 ],
 "metadata": {
  "kernelspec": {
   "display_name": "Python 3",
   "language": "python",
   "name": "python3"
  },
  "language_info": {
   "codemirror_mode": {
    "name": "ipython",
    "version": 3
   },
   "file_extension": ".py",
   "mimetype": "text/x-python",
   "name": "python",
   "nbconvert_exporter": "python",
   "pygments_lexer": "ipython3",
   "version": "3.7.9"
  }
 },
 "nbformat": 4,
 "nbformat_minor": 4
}
