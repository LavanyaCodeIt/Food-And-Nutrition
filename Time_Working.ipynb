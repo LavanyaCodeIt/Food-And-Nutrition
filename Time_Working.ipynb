{
 "cells": [
  {
   "cell_type": "code",
   "execution_count": 3,
   "metadata": {},
   "outputs": [
    {
     "name": "stdout",
     "output_type": "stream",
     "text": [
      "The Rows and Columns After Cleaning: (6865, 13)\n"
     ]
    }
   ],
   "source": [
    "import pandas as pd\n",
    "import numpy as np\n",
    "import seaborn as sns\n",
    "import matplotlib.pyplot as plt\n",
    "\n",
    "#The First Step of EDA is Data Sourcing. Loading the data.\n",
    "data = pd.read_csv(\"Recipe_Clean.csv\")\n",
    "\n",
    "#To get the row and column count\n",
    "print(\"The Rows and Columns After Cleaning:\", data.shape)  #There are 6871 rows since it starts from zero and 15 columns\n"
   ]
  },
  {
   "cell_type": "code",
   "execution_count": 4,
   "metadata": {},
   "outputs": [
    {
     "data": {
      "text/plain": [
       "Index(['Unnamed: 0', 'Recipe No', 'Recipe Name', 'Ingredients',\n",
       "       'Preparation Time/Min', 'Cooking Time/Min', 'Total Time/Min',\n",
       "       'Servings', 'Cuisine', 'Course', 'Diet', 'Instructions', 'Link'],\n",
       "      dtype='object')"
      ]
     },
     "execution_count": 4,
     "metadata": {},
     "output_type": "execute_result"
    }
   ],
   "source": [
    "data.columns"
   ]
  },
  {
   "cell_type": "code",
   "execution_count": 5,
   "metadata": {},
   "outputs": [
    {
     "data": {
      "text/plain": [
       "Index(['Recipe No', 'Recipe Name', 'Ingredients', 'Preparation Time/Min',\n",
       "       'Cooking Time/Min', 'Total Time/Min', 'Servings', 'Cuisine', 'Course',\n",
       "       'Diet', 'Instructions', 'Link'],\n",
       "      dtype='object')"
      ]
     },
     "execution_count": 5,
     "metadata": {},
     "output_type": "execute_result"
    }
   ],
   "source": [
    "data.drop(\"Unnamed: 0\", axis=1,inplace=True)\n",
    "data.columns"
   ]
  },
  {
   "cell_type": "code",
   "execution_count": 8,
   "metadata": {},
   "outputs": [
    {
     "data": {
      "text/plain": [
       "0       15\n",
       "1        5\n",
       "2       20\n",
       "3       15\n",
       "4       10\n",
       "        ..\n",
       "6860    15\n",
       "6861    30\n",
       "6862     5\n",
       "6863    30\n",
       "6864    10\n",
       "Name: Preparation Time/Min, Length: 6865, dtype: int64"
      ]
     },
     "execution_count": 8,
     "metadata": {},
     "output_type": "execute_result"
    }
   ],
   "source": [
    "data[\"Preparation Time/Min\"]"
   ]
  },
  {
   "cell_type": "code",
   "execution_count": 13,
   "metadata": {},
   "outputs": [
    {
     "name": "stdout",
     "output_type": "stream",
     "text": [
      "2880\n"
     ]
    }
   ],
   "source": [
    "colum=data[\"Preparation Time/Min\"]\n",
    "max_value= colum.max()\n",
    "print(\"Maximum Preparation Time\" , max_value)"
   ]
  },
  {
   "cell_type": "code",
   "execution_count": 14,
   "metadata": {},
   "outputs": [
    {
     "name": "stdout",
     "output_type": "stream",
     "text": [
      "Maximum Cooking Time 900\n"
     ]
    }
   ],
   "source": [
    "cook_max= data[\"Cooking Time/Min\"].max()\n",
    "print(\"Maximum Cooking Time\",cook_max)"
   ]
  },
  {
   "cell_type": "code",
   "execution_count": 16,
   "metadata": {},
   "outputs": [
    {
     "data": {
      "text/plain": [
       "Text(0.5, 0, 'Servings Count')"
      ]
     },
     "execution_count": 16,
     "metadata": {},
     "output_type": "execute_result"
    },
    {
     "data": {
      "image/png": "[encoded data removed]",
      "text/plain": [
       "<Figure size 720x360 with 1 Axes>"
      ]
     },
     "metadata": {
      "needs_background": "light"
     },
     "output_type": "display_data"
    }
   ],
   "source": [
    "data[\"Preparation Time/Min\"].value_counts().nlargest(30).plot(kind=\"bar\", figsize=(10,5))\n",
    "plt.title(\"Preparation Time for each servings\")\n",
    "plt.ylabel(\"Preparation Time/Min\")\n",
    "plt.xlabel(\"Servings Count\")\n"
   ]
  },
  {
   "cell_type": "code",
   "execution_count": 18,
   "metadata": {},
   "outputs": [
    {
     "data": {
      "text/plain": [
       "1000"
      ]
     },
     "execution_count": 18,
     "metadata": {},
     "output_type": "execute_result"
    }
   ],
   "source": [
    "data[\"Servings\"].max()"
   ]
  },
  {
   "cell_type": "code",
   "execution_count": null,
   "metadata": {},
   "outputs": [],
   "source": []
  }
 ],
 "metadata": {
  "kernelspec": {
   "display_name": "Python 3",
   "language": "python",
   "name": "python3"
  },
  "language_info": {
   "codemirror_mode": {
    "name": "ipython",
    "version": 3
   },
   "file_extension": ".py",
   "mimetype": "text/x-python",
   "name": "python",
   "nbconvert_exporter": "python",
   "pygments_lexer": "ipython3",
   "version": "3.8.5"
  }
 },
 "nbformat": 4,
 "nbformat_minor": 4
}
