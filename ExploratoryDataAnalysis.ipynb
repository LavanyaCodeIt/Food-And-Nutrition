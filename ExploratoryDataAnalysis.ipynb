{
 "cells": [
  {
   "cell_type": "code",
   "execution_count": 51,
   "metadata": {},
   "outputs": [
    {
     "name": "stdout",
     "output_type": "stream",
     "text": [
      "Number of duplicate rows: (0, 15)\n",
      "Srno                      0\n",
      "RecipeName                0\n",
      "TranslatedRecipeName      0\n",
      "Ingredients               6\n",
      "TranslatedIngredients     6\n",
      "PrepTimeInMins            0\n",
      "CookTimeInMins            0\n",
      "TotalTimeInMins           0\n",
      "Servings                  0\n",
      "Cuisine                   0\n",
      "Course                    0\n",
      "Diet                      0\n",
      "Instructions              0\n",
      "TranslatedInstructions    0\n",
      "URL                       0\n",
      "dtype: int64\n",
      "Srno                      0\n",
      "TranslatedRecipeName      0\n",
      "TranslatedIngredients     0\n",
      "PrepTimeInMins            0\n",
      "CookTimeInMins            0\n",
      "TotalTimeInMins           0\n",
      "Servings                  0\n",
      "Cuisine                   0\n",
      "Course                    0\n",
      "Diet                      0\n",
      "TranslatedInstructions    0\n",
      "URL                       0\n",
      "dtype: int64\n"
     ]
    }
   ],
   "source": [
    "import pandas as pd\n",
    "import numpy as np\n",
    "import seaborn as sns\n",
    "import matplotlib.pyplot as plt\n",
    "\n",
    "#The First Step of EDA is Data Sourcing. Loading the data.\n",
    "data = pd.read_csv(\"Recipe.csv\")\n",
    "\n",
    "#To get the row and column count\n",
    "data.shape  #There are 6871 rows since it starts from zero and 15 columns\n",
    "data.nunique()\n",
    "\n",
    "#To find the data types of all the columns\n",
    "data.dtypes\n",
    "data.head()\n",
    "data.columns\n",
    "\n",
    "#To find any duplicated rows\n",
    "duplicate_rows_df = data[data.duplicated()]\n",
    "print(\"Number of duplicate rows:\" ,duplicate_rows_df.shape) #There is no duplicate row in our dataset\n",
    "\n",
    "#To find any missing values in our data\n",
    "print(data.isnull().sum()) #6 missing data in Ingredients and Translated Ingredients.\n",
    "\n",
    "#Missing data can be either dropped or imputed.\n",
    "data.drop([\"Ingredients\"], axis = 1, inplace = True) \n",
    "data.shape #After dropping there are 6871,14 datas.\n",
    "#dropping unwanted columns to avoid redundancy\n",
    "data.drop([\"RecipeName\"],axis = 1 , inplace= True)\n",
    "data.drop([\"Instructions\"], axis =1 , inplace = True)\n",
    "data.shape\n",
    "\n",
    "# simply drop whole row with missing values in \"Translated Ingredient\" column\n",
    "data.dropna(subset=[\"TranslatedIngredients\"], axis=0, inplace=True)\n",
    "print(data.isnull().sum()) #we can see all the columns has no null values.\n",
    "\n",
    "#Time to rename the columns\n",
    "data.rename(columns={'TranslatedRecipeName':'Recipe Name','TranslatedIngredients':'Ingredients', 'TranslatedInstructions':'Instructions','Srno':'Recipe No', 'PrepTimeInMins':'Preparation Time/Min','CookTimeInMins':'Cooking Time/Min','TotalTimeInMins':'Total Time/Min','URL':'Link'},inplace=True)\n",
    "data.columns\n",
    "data.head()\n",
    "\n",
    "data_wrangling= data.to_csv(\"Recipe_Clean.csv\")"
   ]
  },
  {
   "cell_type": "code",
   "execution_count": null,
   "metadata": {},
   "outputs": [],
   "source": []
  }
 ],
 "metadata": {
  "kernelspec": {
   "display_name": "Python 3",
   "language": "python",
   "name": "python3"
  },
  "language_info": {
   "codemirror_mode": {
    "name": "ipython",
    "version": 3
   },
   "file_extension": ".py",
   "mimetype": "text/x-python",
   "name": "python",
   "nbconvert_exporter": "python",
   "pygments_lexer": "ipython3",
   "version": "3.8.5"
  }
 },
 "nbformat": 4,
 "nbformat_minor": 4
}
